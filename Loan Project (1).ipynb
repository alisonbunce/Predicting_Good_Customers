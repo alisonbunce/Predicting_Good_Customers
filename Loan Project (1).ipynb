{
 "cells": [
  {
   "cell_type": "markdown",
   "metadata": {},
   "source": [
    "# Loan Hack Day Project"
   ]
  },
  {
   "cell_type": "markdown",
   "metadata": {},
   "source": [
    "*Business Objective:* Determine who is a good customer for their loan repayment. We want to predict which of our customer base will be a good candidate and will repay their loan. Based on certain criteria if they should give their customers a loan. "
   ]
  },
  {
   "cell_type": "code",
   "execution_count": 1,
   "metadata": {},
   "outputs": [],
   "source": [
    "#import pandas library\n",
    "import pandas as pd\n",
    "import numpy as np"
   ]
  },
  {
   "cell_type": "code",
   "execution_count": 2,
   "metadata": {},
   "outputs": [],
   "source": [
    "#import the train test split function from sklearn library\n",
    "from sklearn.model_selection import train_test_split"
   ]
  },
  {
   "cell_type": "code",
   "execution_count": 3,
   "metadata": {},
   "outputs": [
    {
     "name": "stderr",
     "output_type": "stream",
     "text": [
      "/Users/alisonbunce/anaconda3/lib/python3.7/site-packages/IPython/core/interactiveshell.py:3049: DtypeWarning: Columns (16) have mixed types. Specify dtype option on import or set low_memory=False.\n",
      "  interactivity=interactivity, compiler=compiler, result=result)\n"
     ]
    }
   ],
   "source": [
    "#get the data and name it loan\n",
    "loan = pd.read_csv('1564688933_LoansTrainingSet.csv')"
   ]
  },
  {
   "cell_type": "code",
   "execution_count": 4,
   "metadata": {},
   "outputs": [
    {
     "data": {
      "text/html": [
       "<div>\n",
       "<style scoped>\n",
       "    .dataframe tbody tr th:only-of-type {\n",
       "        vertical-align: middle;\n",
       "    }\n",
       "\n",
       "    .dataframe tbody tr th {\n",
       "        vertical-align: top;\n",
       "    }\n",
       "\n",
       "    .dataframe thead th {\n",
       "        text-align: right;\n",
       "    }\n",
       "</style>\n",
       "<table border=\"1\" class=\"dataframe\">\n",
       "  <thead>\n",
       "    <tr style=\"text-align: right;\">\n",
       "      <th></th>\n",
       "      <th>Loan ID</th>\n",
       "      <th>Customer ID</th>\n",
       "      <th>Loan Status</th>\n",
       "      <th>Current Loan Amount</th>\n",
       "      <th>Term</th>\n",
       "      <th>Credit Score</th>\n",
       "      <th>Years in current job</th>\n",
       "      <th>Home Ownership</th>\n",
       "      <th>Annual Income</th>\n",
       "      <th>Purpose</th>\n",
       "      <th>Monthly Debt</th>\n",
       "      <th>Years of Credit History</th>\n",
       "      <th>Months since last delinquent</th>\n",
       "      <th>Number of Open Accounts</th>\n",
       "      <th>Number of Credit Problems</th>\n",
       "      <th>Current Credit Balance</th>\n",
       "      <th>Maximum Open Credit</th>\n",
       "      <th>Bankruptcies</th>\n",
       "      <th>Tax Liens</th>\n",
       "    </tr>\n",
       "  </thead>\n",
       "  <tbody>\n",
       "    <tr>\n",
       "      <th>0</th>\n",
       "      <td>000025bb-5694-4cff-b17d-192b1a98ba44</td>\n",
       "      <td>5ebc8bb1-5eb9-4404-b11b-a6eebc401a19</td>\n",
       "      <td>Fully Paid</td>\n",
       "      <td>11520</td>\n",
       "      <td>Short Term</td>\n",
       "      <td>741.0</td>\n",
       "      <td>10+ years</td>\n",
       "      <td>Home Mortgage</td>\n",
       "      <td>33694.0</td>\n",
       "      <td>Debt Consolidation</td>\n",
       "      <td>$584.03</td>\n",
       "      <td>12.3</td>\n",
       "      <td>41.0</td>\n",
       "      <td>10</td>\n",
       "      <td>0</td>\n",
       "      <td>6760</td>\n",
       "      <td>16056</td>\n",
       "      <td>0.0</td>\n",
       "      <td>0.0</td>\n",
       "    </tr>\n",
       "    <tr>\n",
       "      <th>1</th>\n",
       "      <td>00002c49-3a29-4bd4-8f67-c8f8fbc1048c</td>\n",
       "      <td>927b388d-2e01-423f-a8dc-f7e42d668f46</td>\n",
       "      <td>Fully Paid</td>\n",
       "      <td>3441</td>\n",
       "      <td>Short Term</td>\n",
       "      <td>734.0</td>\n",
       "      <td>4 years</td>\n",
       "      <td>Home Mortgage</td>\n",
       "      <td>42269.0</td>\n",
       "      <td>other</td>\n",
       "      <td>$1,106.04</td>\n",
       "      <td>26.3</td>\n",
       "      <td>NaN</td>\n",
       "      <td>17</td>\n",
       "      <td>0</td>\n",
       "      <td>6262</td>\n",
       "      <td>19149</td>\n",
       "      <td>0.0</td>\n",
       "      <td>0.0</td>\n",
       "    </tr>\n",
       "    <tr>\n",
       "      <th>2</th>\n",
       "      <td>00002d89-27f3-409b-aa76-90834f359a65</td>\n",
       "      <td>defce609-c631-447d-aad6-1270615e89c4</td>\n",
       "      <td>Fully Paid</td>\n",
       "      <td>21029</td>\n",
       "      <td>Short Term</td>\n",
       "      <td>747.0</td>\n",
       "      <td>10+ years</td>\n",
       "      <td>Home Mortgage</td>\n",
       "      <td>90126.0</td>\n",
       "      <td>Debt Consolidation</td>\n",
       "      <td>$1,321.85</td>\n",
       "      <td>28.8</td>\n",
       "      <td>NaN</td>\n",
       "      <td>5</td>\n",
       "      <td>0</td>\n",
       "      <td>20967</td>\n",
       "      <td>28335</td>\n",
       "      <td>0.0</td>\n",
       "      <td>0.0</td>\n",
       "    </tr>\n",
       "    <tr>\n",
       "      <th>3</th>\n",
       "      <td>00005222-b4d8-45a4-ad8c-186057e24233</td>\n",
       "      <td>070bcecb-aae7-4485-a26a-e0403e7bb6c5</td>\n",
       "      <td>Fully Paid</td>\n",
       "      <td>18743</td>\n",
       "      <td>Short Term</td>\n",
       "      <td>747.0</td>\n",
       "      <td>10+ years</td>\n",
       "      <td>Own Home</td>\n",
       "      <td>38072.0</td>\n",
       "      <td>Debt Consolidation</td>\n",
       "      <td>$751.92</td>\n",
       "      <td>26.2</td>\n",
       "      <td>NaN</td>\n",
       "      <td>9</td>\n",
       "      <td>0</td>\n",
       "      <td>22529</td>\n",
       "      <td>43915</td>\n",
       "      <td>0.0</td>\n",
       "      <td>0.0</td>\n",
       "    </tr>\n",
       "    <tr>\n",
       "      <th>4</th>\n",
       "      <td>0000757f-a121-41ed-b17b-162e76647c1f</td>\n",
       "      <td>dde79588-12f0-4811-bab0-e2b07f633fcd</td>\n",
       "      <td>Fully Paid</td>\n",
       "      <td>11731</td>\n",
       "      <td>Short Term</td>\n",
       "      <td>746.0</td>\n",
       "      <td>4 years</td>\n",
       "      <td>Rent</td>\n",
       "      <td>50025.0</td>\n",
       "      <td>Debt Consolidation</td>\n",
       "      <td>$355.18</td>\n",
       "      <td>11.5</td>\n",
       "      <td>NaN</td>\n",
       "      <td>12</td>\n",
       "      <td>0</td>\n",
       "      <td>17391</td>\n",
       "      <td>37081</td>\n",
       "      <td>0.0</td>\n",
       "      <td>0.0</td>\n",
       "    </tr>\n",
       "    <tr>\n",
       "      <th>5</th>\n",
       "      <td>0000a149-b055-4a57-b762-280783ccc25e</td>\n",
       "      <td>62ddc017-7023-4ba7-af23-1a7cd16c1ce5</td>\n",
       "      <td>Fully Paid</td>\n",
       "      <td>10208</td>\n",
       "      <td>Short Term</td>\n",
       "      <td>716.0</td>\n",
       "      <td>10+ years</td>\n",
       "      <td>Rent</td>\n",
       "      <td>41853.0</td>\n",
       "      <td>Business Loan</td>\n",
       "      <td>$561.52</td>\n",
       "      <td>13.2</td>\n",
       "      <td>NaN</td>\n",
       "      <td>4</td>\n",
       "      <td>1</td>\n",
       "      <td>2289</td>\n",
       "      <td>4671</td>\n",
       "      <td>1.0</td>\n",
       "      <td>0.0</td>\n",
       "    </tr>\n",
       "    <tr>\n",
       "      <th>6</th>\n",
       "      <td>0000afa6-8902-4f8f-b870-25a8fdad0aeb</td>\n",
       "      <td>e49c1a82-a0f7-45e8-9f46-2f75c43f9fbc</td>\n",
       "      <td>Charged Off</td>\n",
       "      <td>24613</td>\n",
       "      <td>Long Term</td>\n",
       "      <td>6640.0</td>\n",
       "      <td>6 years</td>\n",
       "      <td>Rent</td>\n",
       "      <td>49225.0</td>\n",
       "      <td>Business Loan</td>\n",
       "      <td>$542.29</td>\n",
       "      <td>17.6</td>\n",
       "      <td>73.0</td>\n",
       "      <td>7</td>\n",
       "      <td>0</td>\n",
       "      <td>14123</td>\n",
       "      <td>16954</td>\n",
       "      <td>0.0</td>\n",
       "      <td>0.0</td>\n",
       "    </tr>\n",
       "    <tr>\n",
       "      <th>7</th>\n",
       "      <td>0000afa6-8902-4f8f-b870-25a8fdad0aeb</td>\n",
       "      <td>e49c1a82-a0f7-45e8-9f46-2f75c43f9fbc</td>\n",
       "      <td>Charged Off</td>\n",
       "      <td>24613</td>\n",
       "      <td>Long Term</td>\n",
       "      <td>NaN</td>\n",
       "      <td>6 years</td>\n",
       "      <td>Rent</td>\n",
       "      <td>NaN</td>\n",
       "      <td>Business Loan</td>\n",
       "      <td>$542.29</td>\n",
       "      <td>17.6</td>\n",
       "      <td>73.0</td>\n",
       "      <td>7</td>\n",
       "      <td>0</td>\n",
       "      <td>14123</td>\n",
       "      <td>16954</td>\n",
       "      <td>0.0</td>\n",
       "      <td>0.0</td>\n",
       "    </tr>\n",
       "    <tr>\n",
       "      <th>8</th>\n",
       "      <td>00011dfc-31c1-4178-932a-fbeb3f341efb</td>\n",
       "      <td>ef6e098c-6c83-4752-8d00-ff793e476b8c</td>\n",
       "      <td>Fully Paid</td>\n",
       "      <td>10036</td>\n",
       "      <td>Short Term</td>\n",
       "      <td>NaN</td>\n",
       "      <td>5 years</td>\n",
       "      <td>Rent</td>\n",
       "      <td>NaN</td>\n",
       "      <td>Debt Consolidation</td>\n",
       "      <td>$386.36</td>\n",
       "      <td>17.7</td>\n",
       "      <td>NaN</td>\n",
       "      <td>7</td>\n",
       "      <td>0</td>\n",
       "      <td>11970</td>\n",
       "      <td>16579</td>\n",
       "      <td>0.0</td>\n",
       "      <td>0.0</td>\n",
       "    </tr>\n",
       "    <tr>\n",
       "      <th>9</th>\n",
       "      <td>0001cb86-af28-4011-bb86-183786e473ae</td>\n",
       "      <td>4aae67bb-d54b-41ae-8bce-1d62022ed8dd</td>\n",
       "      <td>Fully Paid</td>\n",
       "      <td>2036</td>\n",
       "      <td>Short Term</td>\n",
       "      <td>733.0</td>\n",
       "      <td>NaN</td>\n",
       "      <td>Home Mortgage</td>\n",
       "      <td>55985.0</td>\n",
       "      <td>Debt Consolidation</td>\n",
       "      <td>$741.79</td>\n",
       "      <td>19.8</td>\n",
       "      <td>29.0</td>\n",
       "      <td>7</td>\n",
       "      <td>0</td>\n",
       "      <td>10926</td>\n",
       "      <td>15676</td>\n",
       "      <td>0.0</td>\n",
       "      <td>0.0</td>\n",
       "    </tr>\n",
       "    <tr>\n",
       "      <th>10</th>\n",
       "      <td>00020fb0-6b8a-4b3a-8c72-9c4c847e8cb6</td>\n",
       "      <td>c9decd06-16f7-44c3-b007-8776f2a9233d</td>\n",
       "      <td>Fully Paid</td>\n",
       "      <td>99999999</td>\n",
       "      <td>Short Term</td>\n",
       "      <td>742.0</td>\n",
       "      <td>3 years</td>\n",
       "      <td>Home Mortgage</td>\n",
       "      <td>64760.0</td>\n",
       "      <td>Debt Consolidation</td>\n",
       "      <td>$582.84</td>\n",
       "      <td>26.8</td>\n",
       "      <td>NaN</td>\n",
       "      <td>11</td>\n",
       "      <td>0</td>\n",
       "      <td>8880</td>\n",
       "      <td>22711</td>\n",
       "      <td>0.0</td>\n",
       "      <td>0.0</td>\n",
       "    </tr>\n",
       "    <tr>\n",
       "      <th>11</th>\n",
       "      <td>0002593b-4973-4f28-8d1c-2b323a125863</td>\n",
       "      <td>c1322b41-c3f5-4395-bda7-a61f848c1f7e</td>\n",
       "      <td>Fully Paid</td>\n",
       "      <td>10233</td>\n",
       "      <td>Short Term</td>\n",
       "      <td>742.0</td>\n",
       "      <td>2 years</td>\n",
       "      <td>Home Mortgage</td>\n",
       "      <td>153495.0</td>\n",
       "      <td>Home Improvements</td>\n",
       "      <td>$1,573.32</td>\n",
       "      <td>19.2</td>\n",
       "      <td>NaN</td>\n",
       "      <td>8</td>\n",
       "      <td>0</td>\n",
       "      <td>32630</td>\n",
       "      <td>41726</td>\n",
       "      <td>0.0</td>\n",
       "      <td>0.0</td>\n",
       "    </tr>\n",
       "    <tr>\n",
       "      <th>12</th>\n",
       "      <td>00029f9f-0cc5-4d4e-aabc-ea4a7fe74e12</td>\n",
       "      <td>afbc2fa3-3bad-4d48-b691-829aed78bad5</td>\n",
       "      <td>Charged Off</td>\n",
       "      <td>17980</td>\n",
       "      <td>Short Term</td>\n",
       "      <td>NaN</td>\n",
       "      <td>&lt; 1 year</td>\n",
       "      <td>Own Home</td>\n",
       "      <td>NaN</td>\n",
       "      <td>Debt Consolidation</td>\n",
       "      <td>$597.50</td>\n",
       "      <td>9.9</td>\n",
       "      <td>43.0</td>\n",
       "      <td>7</td>\n",
       "      <td>0</td>\n",
       "      <td>6817</td>\n",
       "      <td>22800</td>\n",
       "      <td>0.0</td>\n",
       "      <td>0.0</td>\n",
       "    </tr>\n",
       "    <tr>\n",
       "      <th>13</th>\n",
       "      <td>00029f9f-0cc5-4d4e-aabc-ea4a7fe74e12</td>\n",
       "      <td>afbc2fa3-3bad-4d48-b691-829aed78bad5</td>\n",
       "      <td>Charged Off</td>\n",
       "      <td>17961</td>\n",
       "      <td>Short Term</td>\n",
       "      <td>701.0</td>\n",
       "      <td>&lt; 1 year</td>\n",
       "      <td>Own Home</td>\n",
       "      <td>53053.0</td>\n",
       "      <td>Debt Consolidation</td>\n",
       "      <td>$596.85</td>\n",
       "      <td>9.9</td>\n",
       "      <td>43.0</td>\n",
       "      <td>7</td>\n",
       "      <td>0</td>\n",
       "      <td>6810</td>\n",
       "      <td>22775</td>\n",
       "      <td>0.0</td>\n",
       "      <td>0.0</td>\n",
       "    </tr>\n",
       "    <tr>\n",
       "      <th>14</th>\n",
       "      <td>00029f9f-0cc5-4d4e-aabc-ea4a7fe74e12</td>\n",
       "      <td>afbc2fa3-3bad-4d48-b691-829aed78bad5</td>\n",
       "      <td>Charged Off</td>\n",
       "      <td>17961</td>\n",
       "      <td>Short Term</td>\n",
       "      <td>701.0</td>\n",
       "      <td>&lt; 1 year</td>\n",
       "      <td>Own Home</td>\n",
       "      <td>53053.0</td>\n",
       "      <td>Debt Consolidation</td>\n",
       "      <td>$596.85</td>\n",
       "      <td>9.9</td>\n",
       "      <td>43.0</td>\n",
       "      <td>7</td>\n",
       "      <td>0</td>\n",
       "      <td>6810</td>\n",
       "      <td>22775</td>\n",
       "      <td>0.0</td>\n",
       "      <td>0.0</td>\n",
       "    </tr>\n",
       "    <tr>\n",
       "      <th>15</th>\n",
       "      <td>00029f9f-0cc5-4d4e-aabc-ea4a7fe74e12</td>\n",
       "      <td>afbc2fa3-3bad-4d48-b691-829aed78bad5</td>\n",
       "      <td>Charged Off</td>\n",
       "      <td>17980</td>\n",
       "      <td>Short Term</td>\n",
       "      <td>701.0</td>\n",
       "      <td>&lt; 1 year</td>\n",
       "      <td>Own Home</td>\n",
       "      <td>53112.0</td>\n",
       "      <td>Debt Consolidation</td>\n",
       "      <td>$597.50</td>\n",
       "      <td>9.9</td>\n",
       "      <td>43.0</td>\n",
       "      <td>7</td>\n",
       "      <td>0</td>\n",
       "      <td>6817</td>\n",
       "      <td>22800</td>\n",
       "      <td>0.0</td>\n",
       "      <td>0.0</td>\n",
       "    </tr>\n",
       "    <tr>\n",
       "      <th>16</th>\n",
       "      <td>0002c691-5314-44ab-b205-3fb1cc4ee6b2</td>\n",
       "      <td>41207d1e-5d13-43ec-9fe9-f222b4da5e0c</td>\n",
       "      <td>Fully Paid</td>\n",
       "      <td>99999999</td>\n",
       "      <td>Short Term</td>\n",
       "      <td>744.0</td>\n",
       "      <td>6 years</td>\n",
       "      <td>Home Mortgage</td>\n",
       "      <td>65605.0</td>\n",
       "      <td>Debt Consolidation</td>\n",
       "      <td>$984.07</td>\n",
       "      <td>21.0</td>\n",
       "      <td>NaN</td>\n",
       "      <td>5</td>\n",
       "      <td>1</td>\n",
       "      <td>11514</td>\n",
       "      <td>17262</td>\n",
       "      <td>1.0</td>\n",
       "      <td>0.0</td>\n",
       "    </tr>\n",
       "    <tr>\n",
       "      <th>17</th>\n",
       "      <td>000306fc-516c-48c3-b1c7-7889185dd694</td>\n",
       "      <td>df5577f6-6db3-47ae-9bd7-c4ef7233b4ff</td>\n",
       "      <td>Fully Paid</td>\n",
       "      <td>7587</td>\n",
       "      <td>Short Term</td>\n",
       "      <td>744.0</td>\n",
       "      <td>5 years</td>\n",
       "      <td>Home Mortgage</td>\n",
       "      <td>50580.0</td>\n",
       "      <td>Debt Consolidation</td>\n",
       "      <td>$451.00</td>\n",
       "      <td>18.8</td>\n",
       "      <td>NaN</td>\n",
       "      <td>9</td>\n",
       "      <td>0</td>\n",
       "      <td>8519</td>\n",
       "      <td>15982</td>\n",
       "      <td>0.0</td>\n",
       "      <td>0.0</td>\n",
       "    </tr>\n",
       "    <tr>\n",
       "      <th>18</th>\n",
       "      <td>00035328-2636-4390-8322-5841de482d2b</td>\n",
       "      <td>28eb75ac-6a09-4057-b73f-726c72ebf933</td>\n",
       "      <td>Charged Off</td>\n",
       "      <td>11604</td>\n",
       "      <td>Short Term</td>\n",
       "      <td>729.0</td>\n",
       "      <td>6 years</td>\n",
       "      <td>Home Mortgage</td>\n",
       "      <td>35315.0</td>\n",
       "      <td>Debt Consolidation</td>\n",
       "      <td>$662.16</td>\n",
       "      <td>15.0</td>\n",
       "      <td>NaN</td>\n",
       "      <td>12</td>\n",
       "      <td>0</td>\n",
       "      <td>17092</td>\n",
       "      <td>20743</td>\n",
       "      <td>0.0</td>\n",
       "      <td>0.0</td>\n",
       "    </tr>\n",
       "    <tr>\n",
       "      <th>19</th>\n",
       "      <td>00035328-2636-4390-8322-5841de482d2b</td>\n",
       "      <td>28eb75ac-6a09-4057-b73f-726c72ebf933</td>\n",
       "      <td>Charged Off</td>\n",
       "      <td>11604</td>\n",
       "      <td>Short Term</td>\n",
       "      <td>729.0</td>\n",
       "      <td>6 years</td>\n",
       "      <td>Home Mortgage</td>\n",
       "      <td>35315.0</td>\n",
       "      <td>Debt Consolidation</td>\n",
       "      <td>$662.16</td>\n",
       "      <td>15.0</td>\n",
       "      <td>NaN</td>\n",
       "      <td>12</td>\n",
       "      <td>0</td>\n",
       "      <td>17092</td>\n",
       "      <td>20743</td>\n",
       "      <td>0.0</td>\n",
       "      <td>0.0</td>\n",
       "    </tr>\n",
       "    <tr>\n",
       "      <th>20</th>\n",
       "      <td>00038a08-f058-4add-a8ed-497b91672a9e</td>\n",
       "      <td>727bb429-dfa1-41c4-a347-23230e23949f</td>\n",
       "      <td>Charged Off</td>\n",
       "      <td>16929</td>\n",
       "      <td>Long Term</td>\n",
       "      <td>NaN</td>\n",
       "      <td>3 years</td>\n",
       "      <td>Home Mortgage</td>\n",
       "      <td>NaN</td>\n",
       "      <td>Debt Consolidation</td>\n",
       "      <td>$745.70</td>\n",
       "      <td>14.9</td>\n",
       "      <td>NaN</td>\n",
       "      <td>10</td>\n",
       "      <td>0</td>\n",
       "      <td>28513</td>\n",
       "      <td>101110</td>\n",
       "      <td>0.0</td>\n",
       "      <td>0.0</td>\n",
       "    </tr>\n",
       "    <tr>\n",
       "      <th>21</th>\n",
       "      <td>00038a08-f058-4add-a8ed-497b91672a9e</td>\n",
       "      <td>727bb429-dfa1-41c4-a347-23230e23949f</td>\n",
       "      <td>Charged Off</td>\n",
       "      <td>16929</td>\n",
       "      <td>Long Term</td>\n",
       "      <td>734.0</td>\n",
       "      <td>3 years</td>\n",
       "      <td>Home Mortgage</td>\n",
       "      <td>40308.0</td>\n",
       "      <td>Debt Consolidation</td>\n",
       "      <td>$745.70</td>\n",
       "      <td>14.9</td>\n",
       "      <td>NaN</td>\n",
       "      <td>10</td>\n",
       "      <td>0</td>\n",
       "      <td>28513</td>\n",
       "      <td>101110</td>\n",
       "      <td>0.0</td>\n",
       "      <td>0.0</td>\n",
       "    </tr>\n",
       "    <tr>\n",
       "      <th>22</th>\n",
       "      <td>0003b749-307f-4830-9fb4-9db7ed1b1c48</td>\n",
       "      <td>998dc43c-f9ce-466e-bdaa-7057b0bbb9cd</td>\n",
       "      <td>Fully Paid</td>\n",
       "      <td>7228</td>\n",
       "      <td>Short Term</td>\n",
       "      <td>NaN</td>\n",
       "      <td>3 years</td>\n",
       "      <td>Home Mortgage</td>\n",
       "      <td>NaN</td>\n",
       "      <td>Debt Consolidation</td>\n",
       "      <td>$439.56</td>\n",
       "      <td>17.8</td>\n",
       "      <td>NaN</td>\n",
       "      <td>13</td>\n",
       "      <td>1</td>\n",
       "      <td>8488</td>\n",
       "      <td>15866</td>\n",
       "      <td>1.0</td>\n",
       "      <td>0.0</td>\n",
       "    </tr>\n",
       "    <tr>\n",
       "      <th>23</th>\n",
       "      <td>0003fbfd-33ee-4ae9-8074-b46f6ff59281</td>\n",
       "      <td>c14bbc84-5041-4e70-bd64-3db51f7e80ae</td>\n",
       "      <td>Fully Paid</td>\n",
       "      <td>99999999</td>\n",
       "      <td>Short Term</td>\n",
       "      <td>745.0</td>\n",
       "      <td>10+ years</td>\n",
       "      <td>Rent</td>\n",
       "      <td>39476.0</td>\n",
       "      <td>other</td>\n",
       "      <td>$483.58</td>\n",
       "      <td>15.4</td>\n",
       "      <td>79.0</td>\n",
       "      <td>12</td>\n",
       "      <td>0</td>\n",
       "      <td>4636</td>\n",
       "      <td>21171</td>\n",
       "      <td>0.0</td>\n",
       "      <td>0.0</td>\n",
       "    </tr>\n",
       "    <tr>\n",
       "      <th>24</th>\n",
       "      <td>00045ecd-59e9-4752-ba0d-679ff71692b3</td>\n",
       "      <td>b7bce684-b4b0-4b29-af66-eae316bce573</td>\n",
       "      <td>Fully Paid</td>\n",
       "      <td>11863</td>\n",
       "      <td>Short Term</td>\n",
       "      <td>734.0</td>\n",
       "      <td>10+ years</td>\n",
       "      <td>Own Home</td>\n",
       "      <td>69202.0</td>\n",
       "      <td>Debt Consolidation</td>\n",
       "      <td>$859.26</td>\n",
       "      <td>30.3</td>\n",
       "      <td>NaN</td>\n",
       "      <td>7</td>\n",
       "      <td>0</td>\n",
       "      <td>9959</td>\n",
       "      <td>16995</td>\n",
       "      <td>0.0</td>\n",
       "      <td>0.0</td>\n",
       "    </tr>\n",
       "    <tr>\n",
       "      <th>25</th>\n",
       "      <td>0004c11a-bacd-4bd0-98d0-efae9cce56e9</td>\n",
       "      <td>c57b1bbd-6be6-4265-a581-01a96f4a9213</td>\n",
       "      <td>Fully Paid</td>\n",
       "      <td>15395</td>\n",
       "      <td>Long Term</td>\n",
       "      <td>733.0</td>\n",
       "      <td>5 years</td>\n",
       "      <td>Home Mortgage</td>\n",
       "      <td>51984.0</td>\n",
       "      <td>Debt Consolidation</td>\n",
       "      <td>$476.53</td>\n",
       "      <td>19.9</td>\n",
       "      <td>NaN</td>\n",
       "      <td>9</td>\n",
       "      <td>0</td>\n",
       "      <td>2184</td>\n",
       "      <td>8989</td>\n",
       "      <td>0.0</td>\n",
       "      <td>0.0</td>\n",
       "    </tr>\n",
       "    <tr>\n",
       "      <th>26</th>\n",
       "      <td>0004d002-a494-4f8a-a528-a6d513812701</td>\n",
       "      <td>4722d542-6684-431c-afb6-ba2e847f1098</td>\n",
       "      <td>Fully Paid</td>\n",
       "      <td>4612</td>\n",
       "      <td>Short Term</td>\n",
       "      <td>NaN</td>\n",
       "      <td>10+ years</td>\n",
       "      <td>Rent</td>\n",
       "      <td>NaN</td>\n",
       "      <td>Debt Consolidation</td>\n",
       "      <td>$262.27</td>\n",
       "      <td>14.0</td>\n",
       "      <td>NaN</td>\n",
       "      <td>4</td>\n",
       "      <td>0</td>\n",
       "      <td>8919</td>\n",
       "      <td>9330</td>\n",
       "      <td>0.0</td>\n",
       "      <td>0.0</td>\n",
       "    </tr>\n",
       "    <tr>\n",
       "      <th>27</th>\n",
       "      <td>0004d139-d1fb-44ca-9fa5-f5e2d042b81f</td>\n",
       "      <td>587000a6-a421-417b-a5d5-6b8a04345913</td>\n",
       "      <td>Fully Paid</td>\n",
       "      <td>16906</td>\n",
       "      <td>Long Term</td>\n",
       "      <td>728.0</td>\n",
       "      <td>10+ years</td>\n",
       "      <td>Home Mortgage</td>\n",
       "      <td>204920.0</td>\n",
       "      <td>Debt Consolidation</td>\n",
       "      <td>$2,185.81</td>\n",
       "      <td>29.6</td>\n",
       "      <td>NaN</td>\n",
       "      <td>14</td>\n",
       "      <td>0</td>\n",
       "      <td>47201</td>\n",
       "      <td>54068</td>\n",
       "      <td>0.0</td>\n",
       "      <td>0.0</td>\n",
       "    </tr>\n",
       "    <tr>\n",
       "      <th>28</th>\n",
       "      <td>0004f37b-5859-40f6-98d0-367aa3b3f3f1</td>\n",
       "      <td>f662b062-5fa5-463d-b5c0-4e36d09fcab1</td>\n",
       "      <td>Fully Paid</td>\n",
       "      <td>99999999</td>\n",
       "      <td>Short Term</td>\n",
       "      <td>724.0</td>\n",
       "      <td>1 year</td>\n",
       "      <td>Own Home</td>\n",
       "      <td>34297.0</td>\n",
       "      <td>Home Improvements</td>\n",
       "      <td>$777.38</td>\n",
       "      <td>13.6</td>\n",
       "      <td>2.0</td>\n",
       "      <td>12</td>\n",
       "      <td>0</td>\n",
       "      <td>6720</td>\n",
       "      <td>53335</td>\n",
       "      <td>0.0</td>\n",
       "      <td>0.0</td>\n",
       "    </tr>\n",
       "    <tr>\n",
       "      <th>29</th>\n",
       "      <td>000582b2-2b2e-4290-9360-43e3a93b57c2</td>\n",
       "      <td>bafabc36-a32f-489c-9531-896ff66c9171</td>\n",
       "      <td>Fully Paid</td>\n",
       "      <td>16080</td>\n",
       "      <td>Long Term</td>\n",
       "      <td>692.0</td>\n",
       "      <td>10+ years</td>\n",
       "      <td>Rent</td>\n",
       "      <td>63315.0</td>\n",
       "      <td>Debt Consolidation</td>\n",
       "      <td>$321.85</td>\n",
       "      <td>13.8</td>\n",
       "      <td>NaN</td>\n",
       "      <td>10</td>\n",
       "      <td>0</td>\n",
       "      <td>9126</td>\n",
       "      <td>13662</td>\n",
       "      <td>0.0</td>\n",
       "      <td>0.0</td>\n",
       "    </tr>\n",
       "    <tr>\n",
       "      <th>...</th>\n",
       "      <td>...</td>\n",
       "      <td>...</td>\n",
       "      <td>...</td>\n",
       "      <td>...</td>\n",
       "      <td>...</td>\n",
       "      <td>...</td>\n",
       "      <td>...</td>\n",
       "      <td>...</td>\n",
       "      <td>...</td>\n",
       "      <td>...</td>\n",
       "      <td>...</td>\n",
       "      <td>...</td>\n",
       "      <td>...</td>\n",
       "      <td>...</td>\n",
       "      <td>...</td>\n",
       "      <td>...</td>\n",
       "      <td>...</td>\n",
       "      <td>...</td>\n",
       "      <td>...</td>\n",
       "    </tr>\n",
       "    <tr>\n",
       "      <th>256954</th>\n",
       "      <td>fff72f03-243b-422c-ab33-cb15e80e4c0d</td>\n",
       "      <td>f5cf8f78-6b65-4805-9b61-46086c441b08</td>\n",
       "      <td>Fully Paid</td>\n",
       "      <td>99999999</td>\n",
       "      <td>Short Term</td>\n",
       "      <td>742.0</td>\n",
       "      <td>10+ years</td>\n",
       "      <td>Rent</td>\n",
       "      <td>118128.0</td>\n",
       "      <td>Debt Consolidation</td>\n",
       "      <td>$2,608.66</td>\n",
       "      <td>17.0</td>\n",
       "      <td>NaN</td>\n",
       "      <td>17</td>\n",
       "      <td>0</td>\n",
       "      <td>35089</td>\n",
       "      <td>55520</td>\n",
       "      <td>0.0</td>\n",
       "      <td>0.0</td>\n",
       "    </tr>\n",
       "    <tr>\n",
       "      <th>256955</th>\n",
       "      <td>fff75529-3a89-4eec-8ae7-e1af1d100bb5</td>\n",
       "      <td>5e21ff96-a8a1-40ca-8c51-0040c1cb8b15</td>\n",
       "      <td>Fully Paid</td>\n",
       "      <td>11057</td>\n",
       "      <td>Short Term</td>\n",
       "      <td>727.0</td>\n",
       "      <td>1 year</td>\n",
       "      <td>Rent</td>\n",
       "      <td>63328.0</td>\n",
       "      <td>Debt Consolidation</td>\n",
       "      <td>$1,155.73</td>\n",
       "      <td>7.0</td>\n",
       "      <td>NaN</td>\n",
       "      <td>14</td>\n",
       "      <td>0</td>\n",
       "      <td>10116</td>\n",
       "      <td>13071</td>\n",
       "      <td>0.0</td>\n",
       "      <td>0.0</td>\n",
       "    </tr>\n",
       "    <tr>\n",
       "      <th>256956</th>\n",
       "      <td>fff8b666-d2b2-4e41-9697-6fff766b115c</td>\n",
       "      <td>87d39022-0a8d-420d-aae0-7e03c307ea9c</td>\n",
       "      <td>Fully Paid</td>\n",
       "      <td>5366</td>\n",
       "      <td>Short Term</td>\n",
       "      <td>737.0</td>\n",
       "      <td>4 years</td>\n",
       "      <td>Rent</td>\n",
       "      <td>44924.0</td>\n",
       "      <td>Debt Consolidation</td>\n",
       "      <td>$345.54</td>\n",
       "      <td>17.0</td>\n",
       "      <td>46.0</td>\n",
       "      <td>12</td>\n",
       "      <td>0</td>\n",
       "      <td>3686</td>\n",
       "      <td>5191</td>\n",
       "      <td>0.0</td>\n",
       "      <td>0.0</td>\n",
       "    </tr>\n",
       "    <tr>\n",
       "      <th>256957</th>\n",
       "      <td>fff91d07-3f77-44ee-898c-beaf65da3859</td>\n",
       "      <td>1aa35f79-fa82-42e5-96b8-f9609d5f482a</td>\n",
       "      <td>Fully Paid</td>\n",
       "      <td>9833</td>\n",
       "      <td>Short Term</td>\n",
       "      <td>743.0</td>\n",
       "      <td>6 years</td>\n",
       "      <td>Home Mortgage</td>\n",
       "      <td>83581.0</td>\n",
       "      <td>Debt Consolidation</td>\n",
       "      <td>$1,643.75</td>\n",
       "      <td>32.8</td>\n",
       "      <td>56.0</td>\n",
       "      <td>10</td>\n",
       "      <td>1</td>\n",
       "      <td>22110</td>\n",
       "      <td>27637</td>\n",
       "      <td>1.0</td>\n",
       "      <td>0.0</td>\n",
       "    </tr>\n",
       "    <tr>\n",
       "      <th>256958</th>\n",
       "      <td>fff99ae1-990f-4982-844c-49ba7426c96a</td>\n",
       "      <td>6ede5c70-e6e6-4e96-88d0-01e4d5add013</td>\n",
       "      <td>Fully Paid</td>\n",
       "      <td>10414</td>\n",
       "      <td>Short Term</td>\n",
       "      <td>742.0</td>\n",
       "      <td>9 years</td>\n",
       "      <td>Own Home</td>\n",
       "      <td>30186.0</td>\n",
       "      <td>Debt Consolidation</td>\n",
       "      <td>$286.77</td>\n",
       "      <td>9.9</td>\n",
       "      <td>22.0</td>\n",
       "      <td>8</td>\n",
       "      <td>0</td>\n",
       "      <td>3274</td>\n",
       "      <td>11175</td>\n",
       "      <td>0.0</td>\n",
       "      <td>0.0</td>\n",
       "    </tr>\n",
       "    <tr>\n",
       "      <th>256959</th>\n",
       "      <td>fff9b38f-9a27-49d0-8d49-6306f41529eb</td>\n",
       "      <td>f8579c88-cbda-48ce-a542-42fbefccd01d</td>\n",
       "      <td>Fully Paid</td>\n",
       "      <td>9753</td>\n",
       "      <td>Short Term</td>\n",
       "      <td>NaN</td>\n",
       "      <td>2 years</td>\n",
       "      <td>Own Home</td>\n",
       "      <td>NaN</td>\n",
       "      <td>Debt Consolidation</td>\n",
       "      <td>$469.35</td>\n",
       "      <td>23.2</td>\n",
       "      <td>80.0</td>\n",
       "      <td>7</td>\n",
       "      <td>1</td>\n",
       "      <td>5022</td>\n",
       "      <td>9248</td>\n",
       "      <td>1.0</td>\n",
       "      <td>0.0</td>\n",
       "    </tr>\n",
       "    <tr>\n",
       "      <th>256960</th>\n",
       "      <td>fff9be8f-d153-4454-bf40-7c3552f4e235</td>\n",
       "      <td>41c7e701-735d-4897-873d-e50295d99303</td>\n",
       "      <td>Fully Paid</td>\n",
       "      <td>15903</td>\n",
       "      <td>Long Term</td>\n",
       "      <td>687.0</td>\n",
       "      <td>2 years</td>\n",
       "      <td>Rent</td>\n",
       "      <td>161296.0</td>\n",
       "      <td>Medical Bills</td>\n",
       "      <td>$430.13</td>\n",
       "      <td>27.0</td>\n",
       "      <td>47.0</td>\n",
       "      <td>9</td>\n",
       "      <td>1</td>\n",
       "      <td>7297</td>\n",
       "      <td>25336</td>\n",
       "      <td>1.0</td>\n",
       "      <td>0.0</td>\n",
       "    </tr>\n",
       "    <tr>\n",
       "      <th>256961</th>\n",
       "      <td>fffa2dc8-6407-449a-99dc-12f59928d013</td>\n",
       "      <td>1abe52ef-2414-427a-bf9b-068c60e5352a</td>\n",
       "      <td>Fully Paid</td>\n",
       "      <td>8721</td>\n",
       "      <td>Short Term</td>\n",
       "      <td>726.0</td>\n",
       "      <td>7 years</td>\n",
       "      <td>Home Mortgage</td>\n",
       "      <td>38649.0</td>\n",
       "      <td>Debt Consolidation</td>\n",
       "      <td>$811.63</td>\n",
       "      <td>15.1</td>\n",
       "      <td>NaN</td>\n",
       "      <td>9</td>\n",
       "      <td>1</td>\n",
       "      <td>3860</td>\n",
       "      <td>13592</td>\n",
       "      <td>1.0</td>\n",
       "      <td>0.0</td>\n",
       "    </tr>\n",
       "    <tr>\n",
       "      <th>256962</th>\n",
       "      <td>fffaa912-faa8-4bdf-8ff1-fd5884e51c66</td>\n",
       "      <td>d059bcea-3016-48d3-b7e0-c6e618e1f2c3</td>\n",
       "      <td>Fully Paid</td>\n",
       "      <td>6655</td>\n",
       "      <td>Short Term</td>\n",
       "      <td>NaN</td>\n",
       "      <td>10+ years</td>\n",
       "      <td>Rent</td>\n",
       "      <td>NaN</td>\n",
       "      <td>Debt Consolidation</td>\n",
       "      <td>$620.42</td>\n",
       "      <td>11.1</td>\n",
       "      <td>62.0</td>\n",
       "      <td>15</td>\n",
       "      <td>0</td>\n",
       "      <td>7114</td>\n",
       "      <td>18336</td>\n",
       "      <td>0.0</td>\n",
       "      <td>0.0</td>\n",
       "    </tr>\n",
       "    <tr>\n",
       "      <th>256963</th>\n",
       "      <td>fffb62c8-6149-4746-8b10-e1d2363f3b31</td>\n",
       "      <td>30e19db5-7ffe-4375-a253-f86dc565dfe8</td>\n",
       "      <td>Fully Paid</td>\n",
       "      <td>99999999</td>\n",
       "      <td>Short Term</td>\n",
       "      <td>738.0</td>\n",
       "      <td>10+ years</td>\n",
       "      <td>Rent</td>\n",
       "      <td>34749.0</td>\n",
       "      <td>Debt Consolidation</td>\n",
       "      <td>$833.98</td>\n",
       "      <td>11.0</td>\n",
       "      <td>25.0</td>\n",
       "      <td>17</td>\n",
       "      <td>0</td>\n",
       "      <td>3146</td>\n",
       "      <td>16050</td>\n",
       "      <td>0.0</td>\n",
       "      <td>0.0</td>\n",
       "    </tr>\n",
       "    <tr>\n",
       "      <th>256964</th>\n",
       "      <td>fffbc431-6a56-467c-a5f7-772928f96715</td>\n",
       "      <td>ae7c08b7-6b2e-4763-b148-035bf01c3072</td>\n",
       "      <td>Fully Paid</td>\n",
       "      <td>30327</td>\n",
       "      <td>Long Term</td>\n",
       "      <td>715.0</td>\n",
       "      <td>&lt; 1 year</td>\n",
       "      <td>Rent</td>\n",
       "      <td>163376.0</td>\n",
       "      <td>Debt Consolidation</td>\n",
       "      <td>$820.96</td>\n",
       "      <td>13.9</td>\n",
       "      <td>NaN</td>\n",
       "      <td>8</td>\n",
       "      <td>0</td>\n",
       "      <td>9284</td>\n",
       "      <td>14644</td>\n",
       "      <td>0.0</td>\n",
       "      <td>0.0</td>\n",
       "    </tr>\n",
       "    <tr>\n",
       "      <th>256965</th>\n",
       "      <td>fffc297d-74f0-4d42-ad90-cdea2bd9aac0</td>\n",
       "      <td>b8cae6f0-6c9b-4982-bef2-e3cdf48add59</td>\n",
       "      <td>Charged Off</td>\n",
       "      <td>11524</td>\n",
       "      <td>Short Term</td>\n",
       "      <td>NaN</td>\n",
       "      <td>6 years</td>\n",
       "      <td>Home Mortgage</td>\n",
       "      <td>NaN</td>\n",
       "      <td>Debt Consolidation</td>\n",
       "      <td>$790.35</td>\n",
       "      <td>21.4</td>\n",
       "      <td>NaN</td>\n",
       "      <td>23</td>\n",
       "      <td>0</td>\n",
       "      <td>12818</td>\n",
       "      <td>19160</td>\n",
       "      <td>0.0</td>\n",
       "      <td>0.0</td>\n",
       "    </tr>\n",
       "    <tr>\n",
       "      <th>256966</th>\n",
       "      <td>fffc297d-74f0-4d42-ad90-cdea2bd9aac0</td>\n",
       "      <td>b8cae6f0-6c9b-4982-bef2-e3cdf48add59</td>\n",
       "      <td>Charged Off</td>\n",
       "      <td>11524</td>\n",
       "      <td>Short Term</td>\n",
       "      <td>725.0</td>\n",
       "      <td>6 years</td>\n",
       "      <td>Home Mortgage</td>\n",
       "      <td>50990.0</td>\n",
       "      <td>Debt Consolidation</td>\n",
       "      <td>$790.35</td>\n",
       "      <td>21.4</td>\n",
       "      <td>NaN</td>\n",
       "      <td>23</td>\n",
       "      <td>0</td>\n",
       "      <td>12818</td>\n",
       "      <td>19160</td>\n",
       "      <td>0.0</td>\n",
       "      <td>0.0</td>\n",
       "    </tr>\n",
       "    <tr>\n",
       "      <th>256967</th>\n",
       "      <td>fffc2c5b-2ee2-454b-b82f-16c5d983281d</td>\n",
       "      <td>274e5790-7122-4857-bdd9-93d928b16edc</td>\n",
       "      <td>Fully Paid</td>\n",
       "      <td>9981</td>\n",
       "      <td>Short Term</td>\n",
       "      <td>737.0</td>\n",
       "      <td>6 years</td>\n",
       "      <td>Rent</td>\n",
       "      <td>39924.0</td>\n",
       "      <td>Debt Consolidation</td>\n",
       "      <td>$318.39</td>\n",
       "      <td>11.4</td>\n",
       "      <td>18.0</td>\n",
       "      <td>9</td>\n",
       "      <td>0</td>\n",
       "      <td>10629</td>\n",
       "      <td>19793</td>\n",
       "      <td>0.0</td>\n",
       "      <td>0.0</td>\n",
       "    </tr>\n",
       "    <tr>\n",
       "      <th>256968</th>\n",
       "      <td>fffc4837-d6f7-48c7-bc61-78422af92eb6</td>\n",
       "      <td>01511702-6e9f-490e-9fef-0a9dbf1c0e20</td>\n",
       "      <td>Charged Off</td>\n",
       "      <td>10782</td>\n",
       "      <td>Short Term</td>\n",
       "      <td>738.0</td>\n",
       "      <td>5 years</td>\n",
       "      <td>Rent</td>\n",
       "      <td>36787.0</td>\n",
       "      <td>Debt Consolidation</td>\n",
       "      <td>$732.67</td>\n",
       "      <td>9.5</td>\n",
       "      <td>NaN</td>\n",
       "      <td>8</td>\n",
       "      <td>0</td>\n",
       "      <td>13415</td>\n",
       "      <td>16440</td>\n",
       "      <td>0.0</td>\n",
       "      <td>0.0</td>\n",
       "    </tr>\n",
       "    <tr>\n",
       "      <th>256969</th>\n",
       "      <td>fffc4837-d6f7-48c7-bc61-78422af92eb6</td>\n",
       "      <td>01511702-6e9f-490e-9fef-0a9dbf1c0e20</td>\n",
       "      <td>Charged Off</td>\n",
       "      <td>10782</td>\n",
       "      <td>Short Term</td>\n",
       "      <td>738.0</td>\n",
       "      <td>5 years</td>\n",
       "      <td>Rent</td>\n",
       "      <td>36787.0</td>\n",
       "      <td>Debt Consolidation</td>\n",
       "      <td>$732.67</td>\n",
       "      <td>9.5</td>\n",
       "      <td>NaN</td>\n",
       "      <td>8</td>\n",
       "      <td>0</td>\n",
       "      <td>13415</td>\n",
       "      <td>16440</td>\n",
       "      <td>0.0</td>\n",
       "      <td>0.0</td>\n",
       "    </tr>\n",
       "    <tr>\n",
       "      <th>256970</th>\n",
       "      <td>fffd06e2-01aa-4e93-8ccc-eb626a38cdac</td>\n",
       "      <td>2b469c36-cb73-4fcc-8525-dbfba2601e2c</td>\n",
       "      <td>Fully Paid</td>\n",
       "      <td>99999999</td>\n",
       "      <td>Short Term</td>\n",
       "      <td>734.0</td>\n",
       "      <td>10+ years</td>\n",
       "      <td>Home Mortgage</td>\n",
       "      <td>66809.0</td>\n",
       "      <td>Debt Consolidation</td>\n",
       "      <td>$1,046.68</td>\n",
       "      <td>12.5</td>\n",
       "      <td>NaN</td>\n",
       "      <td>10</td>\n",
       "      <td>0</td>\n",
       "      <td>10013</td>\n",
       "      <td>28690</td>\n",
       "      <td>0.0</td>\n",
       "      <td>0.0</td>\n",
       "    </tr>\n",
       "    <tr>\n",
       "      <th>256971</th>\n",
       "      <td>fffd5218-faf0-4b82-becf-11664fa064a3</td>\n",
       "      <td>301954fb-2381-4d68-a3b0-478870cd49f3</td>\n",
       "      <td>Charged Off</td>\n",
       "      <td>5968</td>\n",
       "      <td>Short Term</td>\n",
       "      <td>746.0</td>\n",
       "      <td>8 years</td>\n",
       "      <td>Own Home</td>\n",
       "      <td>79568.0</td>\n",
       "      <td>Debt Consolidation</td>\n",
       "      <td>$1,412.33</td>\n",
       "      <td>22.1</td>\n",
       "      <td>63.0</td>\n",
       "      <td>10</td>\n",
       "      <td>1</td>\n",
       "      <td>4237</td>\n",
       "      <td>0</td>\n",
       "      <td>0.0</td>\n",
       "      <td>0.0</td>\n",
       "    </tr>\n",
       "    <tr>\n",
       "      <th>256972</th>\n",
       "      <td>fffd5218-faf0-4b82-becf-11664fa064a3</td>\n",
       "      <td>301954fb-2381-4d68-a3b0-478870cd49f3</td>\n",
       "      <td>Charged Off</td>\n",
       "      <td>5968</td>\n",
       "      <td>Short Term</td>\n",
       "      <td>746.0</td>\n",
       "      <td>8 years</td>\n",
       "      <td>Own Home</td>\n",
       "      <td>79568.0</td>\n",
       "      <td>Debt Consolidation</td>\n",
       "      <td>$1,412.33</td>\n",
       "      <td>22.1</td>\n",
       "      <td>63.0</td>\n",
       "      <td>10</td>\n",
       "      <td>1</td>\n",
       "      <td>4237</td>\n",
       "      <td>0</td>\n",
       "      <td>0.0</td>\n",
       "      <td>0.0</td>\n",
       "    </tr>\n",
       "    <tr>\n",
       "      <th>256973</th>\n",
       "      <td>fffe36ec-97a6-460a-a236-640b7e0669f0</td>\n",
       "      <td>6520de3e-5961-47b1-bced-6a8132acb5cc</td>\n",
       "      <td>Charged Off</td>\n",
       "      <td>10575</td>\n",
       "      <td>Long Term</td>\n",
       "      <td>NaN</td>\n",
       "      <td>&lt; 1 year</td>\n",
       "      <td>Rent</td>\n",
       "      <td>NaN</td>\n",
       "      <td>Debt Consolidation</td>\n",
       "      <td>$707.08</td>\n",
       "      <td>14.8</td>\n",
       "      <td>NaN</td>\n",
       "      <td>18</td>\n",
       "      <td>0</td>\n",
       "      <td>20183</td>\n",
       "      <td>23496</td>\n",
       "      <td>0.0</td>\n",
       "      <td>0.0</td>\n",
       "    </tr>\n",
       "    <tr>\n",
       "      <th>256974</th>\n",
       "      <td>fffe36ec-97a6-460a-a236-640b7e0669f0</td>\n",
       "      <td>6520de3e-5961-47b1-bced-6a8132acb5cc</td>\n",
       "      <td>Charged Off</td>\n",
       "      <td>10575</td>\n",
       "      <td>Long Term</td>\n",
       "      <td>722.0</td>\n",
       "      <td>&lt; 1 year</td>\n",
       "      <td>Rent</td>\n",
       "      <td>30854.0</td>\n",
       "      <td>Debt Consolidation</td>\n",
       "      <td>$707.08</td>\n",
       "      <td>14.8</td>\n",
       "      <td>NaN</td>\n",
       "      <td>18</td>\n",
       "      <td>0</td>\n",
       "      <td>20183</td>\n",
       "      <td>23496</td>\n",
       "      <td>0.0</td>\n",
       "      <td>0.0</td>\n",
       "    </tr>\n",
       "    <tr>\n",
       "      <th>256975</th>\n",
       "      <td>fffe5140-8725-4fd1-b3bf-9e59cb7834eb</td>\n",
       "      <td>df856c29-ce44-4df7-94a6-bd758a1c1332</td>\n",
       "      <td>Charged Off</td>\n",
       "      <td>34710</td>\n",
       "      <td>Short Term</td>\n",
       "      <td>700.0</td>\n",
       "      <td>9 years</td>\n",
       "      <td>Rent</td>\n",
       "      <td>148755.0</td>\n",
       "      <td>Business Loan</td>\n",
       "      <td>$47.11</td>\n",
       "      <td>34.0</td>\n",
       "      <td>1.0</td>\n",
       "      <td>3</td>\n",
       "      <td>0</td>\n",
       "      <td>2590</td>\n",
       "      <td>37004</td>\n",
       "      <td>0.0</td>\n",
       "      <td>0.0</td>\n",
       "    </tr>\n",
       "    <tr>\n",
       "      <th>256976</th>\n",
       "      <td>fffe5140-8725-4fd1-b3bf-9e59cb7834eb</td>\n",
       "      <td>df856c29-ce44-4df7-94a6-bd758a1c1332</td>\n",
       "      <td>Charged Off</td>\n",
       "      <td>34710</td>\n",
       "      <td>Short Term</td>\n",
       "      <td>700.0</td>\n",
       "      <td>9 years</td>\n",
       "      <td>Rent</td>\n",
       "      <td>148755.0</td>\n",
       "      <td>Business Loan</td>\n",
       "      <td>$47.11</td>\n",
       "      <td>34.0</td>\n",
       "      <td>1.0</td>\n",
       "      <td>3</td>\n",
       "      <td>0</td>\n",
       "      <td>2590</td>\n",
       "      <td>37004</td>\n",
       "      <td>0.0</td>\n",
       "      <td>0.0</td>\n",
       "    </tr>\n",
       "    <tr>\n",
       "      <th>256977</th>\n",
       "      <td>fffe84cf-67a1-468d-ab7b-cf06a9c4ee14</td>\n",
       "      <td>460c6cf5-4d12-4e3c-a3d0-46dd67c78cce</td>\n",
       "      <td>Charged Off</td>\n",
       "      <td>11953</td>\n",
       "      <td>Short Term</td>\n",
       "      <td>7170.0</td>\n",
       "      <td>10+ years</td>\n",
       "      <td>Home Mortgage</td>\n",
       "      <td>39844.0</td>\n",
       "      <td>Debt Consolidation</td>\n",
       "      <td>$982.82</td>\n",
       "      <td>11.7</td>\n",
       "      <td>NaN</td>\n",
       "      <td>9</td>\n",
       "      <td>1</td>\n",
       "      <td>4176</td>\n",
       "      <td>4783</td>\n",
       "      <td>1.0</td>\n",
       "      <td>0.0</td>\n",
       "    </tr>\n",
       "    <tr>\n",
       "      <th>256978</th>\n",
       "      <td>fffe84cf-67a1-468d-ab7b-cf06a9c4ee14</td>\n",
       "      <td>460c6cf5-4d12-4e3c-a3d0-46dd67c78cce</td>\n",
       "      <td>Charged Off</td>\n",
       "      <td>11953</td>\n",
       "      <td>Short Term</td>\n",
       "      <td>717.0</td>\n",
       "      <td>10+ years</td>\n",
       "      <td>Home Mortgage</td>\n",
       "      <td>39844.0</td>\n",
       "      <td>Debt Consolidation</td>\n",
       "      <td>$982.82</td>\n",
       "      <td>11.7</td>\n",
       "      <td>NaN</td>\n",
       "      <td>9</td>\n",
       "      <td>1</td>\n",
       "      <td>4176</td>\n",
       "      <td>4783</td>\n",
       "      <td>1.0</td>\n",
       "      <td>0.0</td>\n",
       "    </tr>\n",
       "    <tr>\n",
       "      <th>256979</th>\n",
       "      <td>fffef5b7-be99-4666-ac70-2a397d2ee435</td>\n",
       "      <td>7211a8e3-cba4-4132-b939-222eed8a662c</td>\n",
       "      <td>Fully Paid</td>\n",
       "      <td>3911</td>\n",
       "      <td>Short Term</td>\n",
       "      <td>NaN</td>\n",
       "      <td>2 years</td>\n",
       "      <td>Rent</td>\n",
       "      <td>NaN</td>\n",
       "      <td>Debt Consolidation</td>\n",
       "      <td>$1,706.58</td>\n",
       "      <td>19.9</td>\n",
       "      <td>NaN</td>\n",
       "      <td>16</td>\n",
       "      <td>0</td>\n",
       "      <td>43992</td>\n",
       "      <td>44080</td>\n",
       "      <td>0.0</td>\n",
       "      <td>0.0</td>\n",
       "    </tr>\n",
       "    <tr>\n",
       "      <th>256980</th>\n",
       "      <td>ffffca93-aa8c-4123-b8ff-7852f6df889a</td>\n",
       "      <td>616fef0c-8f09-4327-9b5c-48fcfaa52934</td>\n",
       "      <td>Fully Paid</td>\n",
       "      <td>5078</td>\n",
       "      <td>Short Term</td>\n",
       "      <td>737.0</td>\n",
       "      <td>10+ years</td>\n",
       "      <td>Own Home</td>\n",
       "      <td>77186.0</td>\n",
       "      <td>Debt Consolidation</td>\n",
       "      <td>$1,376.47</td>\n",
       "      <td>19.1</td>\n",
       "      <td>47.0</td>\n",
       "      <td>9</td>\n",
       "      <td>0</td>\n",
       "      <td>1717</td>\n",
       "      <td>9758</td>\n",
       "      <td>0.0</td>\n",
       "      <td>0.0</td>\n",
       "    </tr>\n",
       "    <tr>\n",
       "      <th>256981</th>\n",
       "      <td>ffffcb2e-e48e-4d2c-a0d6-ed6bce5bfdbe</td>\n",
       "      <td>971a6682-183b-4a52-8bce-1d3429ade295</td>\n",
       "      <td>Charged Off</td>\n",
       "      <td>12116</td>\n",
       "      <td>Short Term</td>\n",
       "      <td>7460.0</td>\n",
       "      <td>9 years</td>\n",
       "      <td>Home Mortgage</td>\n",
       "      <td>52504.0</td>\n",
       "      <td>Debt Consolidation</td>\n",
       "      <td>$297.96</td>\n",
       "      <td>15.1</td>\n",
       "      <td>82.0</td>\n",
       "      <td>8</td>\n",
       "      <td>0</td>\n",
       "      <td>3315</td>\n",
       "      <td>20090</td>\n",
       "      <td>0.0</td>\n",
       "      <td>0.0</td>\n",
       "    </tr>\n",
       "    <tr>\n",
       "      <th>256982</th>\n",
       "      <td>ffffcb2e-e48e-4d2c-a0d6-ed6bce5bfdbe</td>\n",
       "      <td>971a6682-183b-4a52-8bce-1d3429ade295</td>\n",
       "      <td>Charged Off</td>\n",
       "      <td>12116</td>\n",
       "      <td>Short Term</td>\n",
       "      <td>746.0</td>\n",
       "      <td>9 years</td>\n",
       "      <td>Home Mortgage</td>\n",
       "      <td>52504.0</td>\n",
       "      <td>Debt Consolidation</td>\n",
       "      <td>$297.96</td>\n",
       "      <td>15.1</td>\n",
       "      <td>82.0</td>\n",
       "      <td>8</td>\n",
       "      <td>0</td>\n",
       "      <td>3315</td>\n",
       "      <td>20090</td>\n",
       "      <td>0.0</td>\n",
       "      <td>0.0</td>\n",
       "    </tr>\n",
       "    <tr>\n",
       "      <th>256983</th>\n",
       "      <td>ffffe32e-ed17-459f-9cfd-7b9ee7972933</td>\n",
       "      <td>97281336-1e45-41d2-acb2-263ce56a590e</td>\n",
       "      <td>Fully Paid</td>\n",
       "      <td>27902</td>\n",
       "      <td>Long Term</td>\n",
       "      <td>678.0</td>\n",
       "      <td>10+ years</td>\n",
       "      <td>Home Mortgage</td>\n",
       "      <td>117480.0</td>\n",
       "      <td>Debt Consolidation</td>\n",
       "      <td>$2,525.82</td>\n",
       "      <td>18.0</td>\n",
       "      <td>11.0</td>\n",
       "      <td>10</td>\n",
       "      <td>0</td>\n",
       "      <td>28317</td>\n",
       "      <td>62371</td>\n",
       "      <td>0.0</td>\n",
       "      <td>0.0</td>\n",
       "    </tr>\n",
       "  </tbody>\n",
       "</table>\n",
       "<p>256984 rows × 19 columns</p>\n",
       "</div>"
      ],
      "text/plain": [
       "                                     Loan ID  \\\n",
       "0       000025bb-5694-4cff-b17d-192b1a98ba44   \n",
       "1       00002c49-3a29-4bd4-8f67-c8f8fbc1048c   \n",
       "2       00002d89-27f3-409b-aa76-90834f359a65   \n",
       "3       00005222-b4d8-45a4-ad8c-186057e24233   \n",
       "4       0000757f-a121-41ed-b17b-162e76647c1f   \n",
       "5       0000a149-b055-4a57-b762-280783ccc25e   \n",
       "6       0000afa6-8902-4f8f-b870-25a8fdad0aeb   \n",
       "7       0000afa6-8902-4f8f-b870-25a8fdad0aeb   \n",
       "8       00011dfc-31c1-4178-932a-fbeb3f341efb   \n",
       "9       0001cb86-af28-4011-bb86-183786e473ae   \n",
       "10      00020fb0-6b8a-4b3a-8c72-9c4c847e8cb6   \n",
       "11      0002593b-4973-4f28-8d1c-2b323a125863   \n",
       "12      00029f9f-0cc5-4d4e-aabc-ea4a7fe74e12   \n",
       "13      00029f9f-0cc5-4d4e-aabc-ea4a7fe74e12   \n",
       "14      00029f9f-0cc5-4d4e-aabc-ea4a7fe74e12   \n",
       "15      00029f9f-0cc5-4d4e-aabc-ea4a7fe74e12   \n",
       "16      0002c691-5314-44ab-b205-3fb1cc4ee6b2   \n",
       "17      000306fc-516c-48c3-b1c7-7889185dd694   \n",
       "18      00035328-2636-4390-8322-5841de482d2b   \n",
       "19      00035328-2636-4390-8322-5841de482d2b   \n",
       "20      00038a08-f058-4add-a8ed-497b91672a9e   \n",
       "21      00038a08-f058-4add-a8ed-497b91672a9e   \n",
       "22      0003b749-307f-4830-9fb4-9db7ed1b1c48   \n",
       "23      0003fbfd-33ee-4ae9-8074-b46f6ff59281   \n",
       "24      00045ecd-59e9-4752-ba0d-679ff71692b3   \n",
       "25      0004c11a-bacd-4bd0-98d0-efae9cce56e9   \n",
       "26      0004d002-a494-4f8a-a528-a6d513812701   \n",
       "27      0004d139-d1fb-44ca-9fa5-f5e2d042b81f   \n",
       "28      0004f37b-5859-40f6-98d0-367aa3b3f3f1   \n",
       "29      000582b2-2b2e-4290-9360-43e3a93b57c2   \n",
       "...                                      ...   \n",
       "256954  fff72f03-243b-422c-ab33-cb15e80e4c0d   \n",
       "256955  fff75529-3a89-4eec-8ae7-e1af1d100bb5   \n",
       "256956  fff8b666-d2b2-4e41-9697-6fff766b115c   \n",
       "256957  fff91d07-3f77-44ee-898c-beaf65da3859   \n",
       "256958  fff99ae1-990f-4982-844c-49ba7426c96a   \n",
       "256959  fff9b38f-9a27-49d0-8d49-6306f41529eb   \n",
       "256960  fff9be8f-d153-4454-bf40-7c3552f4e235   \n",
       "256961  fffa2dc8-6407-449a-99dc-12f59928d013   \n",
       "256962  fffaa912-faa8-4bdf-8ff1-fd5884e51c66   \n",
       "256963  fffb62c8-6149-4746-8b10-e1d2363f3b31   \n",
       "256964  fffbc431-6a56-467c-a5f7-772928f96715   \n",
       "256965  fffc297d-74f0-4d42-ad90-cdea2bd9aac0   \n",
       "256966  fffc297d-74f0-4d42-ad90-cdea2bd9aac0   \n",
       "256967  fffc2c5b-2ee2-454b-b82f-16c5d983281d   \n",
       "256968  fffc4837-d6f7-48c7-bc61-78422af92eb6   \n",
       "256969  fffc4837-d6f7-48c7-bc61-78422af92eb6   \n",
       "256970  fffd06e2-01aa-4e93-8ccc-eb626a38cdac   \n",
       "256971  fffd5218-faf0-4b82-becf-11664fa064a3   \n",
       "256972  fffd5218-faf0-4b82-becf-11664fa064a3   \n",
       "256973  fffe36ec-97a6-460a-a236-640b7e0669f0   \n",
       "256974  fffe36ec-97a6-460a-a236-640b7e0669f0   \n",
       "256975  fffe5140-8725-4fd1-b3bf-9e59cb7834eb   \n",
       "256976  fffe5140-8725-4fd1-b3bf-9e59cb7834eb   \n",
       "256977  fffe84cf-67a1-468d-ab7b-cf06a9c4ee14   \n",
       "256978  fffe84cf-67a1-468d-ab7b-cf06a9c4ee14   \n",
       "256979  fffef5b7-be99-4666-ac70-2a397d2ee435   \n",
       "256980  ffffca93-aa8c-4123-b8ff-7852f6df889a   \n",
       "256981  ffffcb2e-e48e-4d2c-a0d6-ed6bce5bfdbe   \n",
       "256982  ffffcb2e-e48e-4d2c-a0d6-ed6bce5bfdbe   \n",
       "256983  ffffe32e-ed17-459f-9cfd-7b9ee7972933   \n",
       "\n",
       "                                 Customer ID  Loan Status  \\\n",
       "0       5ebc8bb1-5eb9-4404-b11b-a6eebc401a19   Fully Paid   \n",
       "1       927b388d-2e01-423f-a8dc-f7e42d668f46   Fully Paid   \n",
       "2       defce609-c631-447d-aad6-1270615e89c4   Fully Paid   \n",
       "3       070bcecb-aae7-4485-a26a-e0403e7bb6c5   Fully Paid   \n",
       "4       dde79588-12f0-4811-bab0-e2b07f633fcd   Fully Paid   \n",
       "5       62ddc017-7023-4ba7-af23-1a7cd16c1ce5   Fully Paid   \n",
       "6       e49c1a82-a0f7-45e8-9f46-2f75c43f9fbc  Charged Off   \n",
       "7       e49c1a82-a0f7-45e8-9f46-2f75c43f9fbc  Charged Off   \n",
       "8       ef6e098c-6c83-4752-8d00-ff793e476b8c   Fully Paid   \n",
       "9       4aae67bb-d54b-41ae-8bce-1d62022ed8dd   Fully Paid   \n",
       "10      c9decd06-16f7-44c3-b007-8776f2a9233d   Fully Paid   \n",
       "11      c1322b41-c3f5-4395-bda7-a61f848c1f7e   Fully Paid   \n",
       "12      afbc2fa3-3bad-4d48-b691-829aed78bad5  Charged Off   \n",
       "13      afbc2fa3-3bad-4d48-b691-829aed78bad5  Charged Off   \n",
       "14      afbc2fa3-3bad-4d48-b691-829aed78bad5  Charged Off   \n",
       "15      afbc2fa3-3bad-4d48-b691-829aed78bad5  Charged Off   \n",
       "16      41207d1e-5d13-43ec-9fe9-f222b4da5e0c   Fully Paid   \n",
       "17      df5577f6-6db3-47ae-9bd7-c4ef7233b4ff   Fully Paid   \n",
       "18      28eb75ac-6a09-4057-b73f-726c72ebf933  Charged Off   \n",
       "19      28eb75ac-6a09-4057-b73f-726c72ebf933  Charged Off   \n",
       "20      727bb429-dfa1-41c4-a347-23230e23949f  Charged Off   \n",
       "21      727bb429-dfa1-41c4-a347-23230e23949f  Charged Off   \n",
       "22      998dc43c-f9ce-466e-bdaa-7057b0bbb9cd   Fully Paid   \n",
       "23      c14bbc84-5041-4e70-bd64-3db51f7e80ae   Fully Paid   \n",
       "24      b7bce684-b4b0-4b29-af66-eae316bce573   Fully Paid   \n",
       "25      c57b1bbd-6be6-4265-a581-01a96f4a9213   Fully Paid   \n",
       "26      4722d542-6684-431c-afb6-ba2e847f1098   Fully Paid   \n",
       "27      587000a6-a421-417b-a5d5-6b8a04345913   Fully Paid   \n",
       "28      f662b062-5fa5-463d-b5c0-4e36d09fcab1   Fully Paid   \n",
       "29      bafabc36-a32f-489c-9531-896ff66c9171   Fully Paid   \n",
       "...                                      ...          ...   \n",
       "256954  f5cf8f78-6b65-4805-9b61-46086c441b08   Fully Paid   \n",
       "256955  5e21ff96-a8a1-40ca-8c51-0040c1cb8b15   Fully Paid   \n",
       "256956  87d39022-0a8d-420d-aae0-7e03c307ea9c   Fully Paid   \n",
       "256957  1aa35f79-fa82-42e5-96b8-f9609d5f482a   Fully Paid   \n",
       "256958  6ede5c70-e6e6-4e96-88d0-01e4d5add013   Fully Paid   \n",
       "256959  f8579c88-cbda-48ce-a542-42fbefccd01d   Fully Paid   \n",
       "256960  41c7e701-735d-4897-873d-e50295d99303   Fully Paid   \n",
       "256961  1abe52ef-2414-427a-bf9b-068c60e5352a   Fully Paid   \n",
       "256962  d059bcea-3016-48d3-b7e0-c6e618e1f2c3   Fully Paid   \n",
       "256963  30e19db5-7ffe-4375-a253-f86dc565dfe8   Fully Paid   \n",
       "256964  ae7c08b7-6b2e-4763-b148-035bf01c3072   Fully Paid   \n",
       "256965  b8cae6f0-6c9b-4982-bef2-e3cdf48add59  Charged Off   \n",
       "256966  b8cae6f0-6c9b-4982-bef2-e3cdf48add59  Charged Off   \n",
       "256967  274e5790-7122-4857-bdd9-93d928b16edc   Fully Paid   \n",
       "256968  01511702-6e9f-490e-9fef-0a9dbf1c0e20  Charged Off   \n",
       "256969  01511702-6e9f-490e-9fef-0a9dbf1c0e20  Charged Off   \n",
       "256970  2b469c36-cb73-4fcc-8525-dbfba2601e2c   Fully Paid   \n",
       "256971  301954fb-2381-4d68-a3b0-478870cd49f3  Charged Off   \n",
       "256972  301954fb-2381-4d68-a3b0-478870cd49f3  Charged Off   \n",
       "256973  6520de3e-5961-47b1-bced-6a8132acb5cc  Charged Off   \n",
       "256974  6520de3e-5961-47b1-bced-6a8132acb5cc  Charged Off   \n",
       "256975  df856c29-ce44-4df7-94a6-bd758a1c1332  Charged Off   \n",
       "256976  df856c29-ce44-4df7-94a6-bd758a1c1332  Charged Off   \n",
       "256977  460c6cf5-4d12-4e3c-a3d0-46dd67c78cce  Charged Off   \n",
       "256978  460c6cf5-4d12-4e3c-a3d0-46dd67c78cce  Charged Off   \n",
       "256979  7211a8e3-cba4-4132-b939-222eed8a662c   Fully Paid   \n",
       "256980  616fef0c-8f09-4327-9b5c-48fcfaa52934   Fully Paid   \n",
       "256981  971a6682-183b-4a52-8bce-1d3429ade295  Charged Off   \n",
       "256982  971a6682-183b-4a52-8bce-1d3429ade295  Charged Off   \n",
       "256983  97281336-1e45-41d2-acb2-263ce56a590e   Fully Paid   \n",
       "\n",
       "        Current Loan Amount        Term  Credit Score Years in current job  \\\n",
       "0                     11520  Short Term         741.0            10+ years   \n",
       "1                      3441  Short Term         734.0              4 years   \n",
       "2                     21029  Short Term         747.0            10+ years   \n",
       "3                     18743  Short Term         747.0            10+ years   \n",
       "4                     11731  Short Term         746.0              4 years   \n",
       "5                     10208  Short Term         716.0            10+ years   \n",
       "6                     24613   Long Term        6640.0              6 years   \n",
       "7                     24613   Long Term           NaN              6 years   \n",
       "8                     10036  Short Term           NaN              5 years   \n",
       "9                      2036  Short Term         733.0                  NaN   \n",
       "10                 99999999  Short Term         742.0              3 years   \n",
       "11                    10233  Short Term         742.0              2 years   \n",
       "12                    17980  Short Term           NaN             < 1 year   \n",
       "13                    17961  Short Term         701.0             < 1 year   \n",
       "14                    17961  Short Term         701.0             < 1 year   \n",
       "15                    17980  Short Term         701.0             < 1 year   \n",
       "16                 99999999  Short Term         744.0              6 years   \n",
       "17                     7587  Short Term         744.0              5 years   \n",
       "18                    11604  Short Term         729.0              6 years   \n",
       "19                    11604  Short Term         729.0              6 years   \n",
       "20                    16929   Long Term           NaN              3 years   \n",
       "21                    16929   Long Term         734.0              3 years   \n",
       "22                     7228  Short Term           NaN              3 years   \n",
       "23                 99999999  Short Term         745.0            10+ years   \n",
       "24                    11863  Short Term         734.0            10+ years   \n",
       "25                    15395   Long Term         733.0              5 years   \n",
       "26                     4612  Short Term           NaN            10+ years   \n",
       "27                    16906   Long Term         728.0            10+ years   \n",
       "28                 99999999  Short Term         724.0               1 year   \n",
       "29                    16080   Long Term         692.0            10+ years   \n",
       "...                     ...         ...           ...                  ...   \n",
       "256954             99999999  Short Term         742.0            10+ years   \n",
       "256955                11057  Short Term         727.0               1 year   \n",
       "256956                 5366  Short Term         737.0              4 years   \n",
       "256957                 9833  Short Term         743.0              6 years   \n",
       "256958                10414  Short Term         742.0              9 years   \n",
       "256959                 9753  Short Term           NaN              2 years   \n",
       "256960                15903   Long Term         687.0              2 years   \n",
       "256961                 8721  Short Term         726.0              7 years   \n",
       "256962                 6655  Short Term           NaN            10+ years   \n",
       "256963             99999999  Short Term         738.0            10+ years   \n",
       "256964                30327   Long Term         715.0             < 1 year   \n",
       "256965                11524  Short Term           NaN              6 years   \n",
       "256966                11524  Short Term         725.0              6 years   \n",
       "256967                 9981  Short Term         737.0              6 years   \n",
       "256968                10782  Short Term         738.0              5 years   \n",
       "256969                10782  Short Term         738.0              5 years   \n",
       "256970             99999999  Short Term         734.0            10+ years   \n",
       "256971                 5968  Short Term         746.0              8 years   \n",
       "256972                 5968  Short Term         746.0              8 years   \n",
       "256973                10575   Long Term           NaN             < 1 year   \n",
       "256974                10575   Long Term         722.0             < 1 year   \n",
       "256975                34710  Short Term         700.0              9 years   \n",
       "256976                34710  Short Term         700.0              9 years   \n",
       "256977                11953  Short Term        7170.0            10+ years   \n",
       "256978                11953  Short Term         717.0            10+ years   \n",
       "256979                 3911  Short Term           NaN              2 years   \n",
       "256980                 5078  Short Term         737.0            10+ years   \n",
       "256981                12116  Short Term        7460.0              9 years   \n",
       "256982                12116  Short Term         746.0              9 years   \n",
       "256983                27902   Long Term         678.0            10+ years   \n",
       "\n",
       "       Home Ownership  Annual Income             Purpose Monthly Debt  \\\n",
       "0       Home Mortgage        33694.0  Debt Consolidation      $584.03   \n",
       "1       Home Mortgage        42269.0               other   $1,106.04    \n",
       "2       Home Mortgage        90126.0  Debt Consolidation   $1,321.85    \n",
       "3            Own Home        38072.0  Debt Consolidation      $751.92   \n",
       "4                Rent        50025.0  Debt Consolidation      $355.18   \n",
       "5                Rent        41853.0       Business Loan      $561.52   \n",
       "6                Rent        49225.0       Business Loan      $542.29   \n",
       "7                Rent            NaN       Business Loan      $542.29   \n",
       "8                Rent            NaN  Debt Consolidation      $386.36   \n",
       "9       Home Mortgage        55985.0  Debt Consolidation      $741.79   \n",
       "10      Home Mortgage        64760.0  Debt Consolidation      $582.84   \n",
       "11      Home Mortgage       153495.0   Home Improvements   $1,573.32    \n",
       "12           Own Home            NaN  Debt Consolidation      $597.50   \n",
       "13           Own Home        53053.0  Debt Consolidation      $596.85   \n",
       "14           Own Home        53053.0  Debt Consolidation      $596.85   \n",
       "15           Own Home        53112.0  Debt Consolidation      $597.50   \n",
       "16      Home Mortgage        65605.0  Debt Consolidation      $984.07   \n",
       "17      Home Mortgage        50580.0  Debt Consolidation      $451.00   \n",
       "18      Home Mortgage        35315.0  Debt Consolidation      $662.16   \n",
       "19      Home Mortgage        35315.0  Debt Consolidation      $662.16   \n",
       "20      Home Mortgage            NaN  Debt Consolidation      $745.70   \n",
       "21      Home Mortgage        40308.0  Debt Consolidation      $745.70   \n",
       "22      Home Mortgage            NaN  Debt Consolidation      $439.56   \n",
       "23               Rent        39476.0               other      $483.58   \n",
       "24           Own Home        69202.0  Debt Consolidation      $859.26   \n",
       "25      Home Mortgage        51984.0  Debt Consolidation      $476.53   \n",
       "26               Rent            NaN  Debt Consolidation      $262.27   \n",
       "27      Home Mortgage       204920.0  Debt Consolidation   $2,185.81    \n",
       "28           Own Home        34297.0   Home Improvements      $777.38   \n",
       "29               Rent        63315.0  Debt Consolidation      $321.85   \n",
       "...               ...            ...                 ...          ...   \n",
       "256954           Rent       118128.0  Debt Consolidation   $2,608.66    \n",
       "256955           Rent        63328.0  Debt Consolidation   $1,155.73    \n",
       "256956           Rent        44924.0  Debt Consolidation      $345.54   \n",
       "256957  Home Mortgage        83581.0  Debt Consolidation   $1,643.75    \n",
       "256958       Own Home        30186.0  Debt Consolidation      $286.77   \n",
       "256959       Own Home            NaN  Debt Consolidation      $469.35   \n",
       "256960           Rent       161296.0       Medical Bills      $430.13   \n",
       "256961  Home Mortgage        38649.0  Debt Consolidation      $811.63   \n",
       "256962           Rent            NaN  Debt Consolidation      $620.42   \n",
       "256963           Rent        34749.0  Debt Consolidation      $833.98   \n",
       "256964           Rent       163376.0  Debt Consolidation      $820.96   \n",
       "256965  Home Mortgage            NaN  Debt Consolidation      $790.35   \n",
       "256966  Home Mortgage        50990.0  Debt Consolidation      $790.35   \n",
       "256967           Rent        39924.0  Debt Consolidation      $318.39   \n",
       "256968           Rent        36787.0  Debt Consolidation      $732.67   \n",
       "256969           Rent        36787.0  Debt Consolidation      $732.67   \n",
       "256970  Home Mortgage        66809.0  Debt Consolidation   $1,046.68    \n",
       "256971       Own Home        79568.0  Debt Consolidation   $1,412.33    \n",
       "256972       Own Home        79568.0  Debt Consolidation   $1,412.33    \n",
       "256973           Rent            NaN  Debt Consolidation      $707.08   \n",
       "256974           Rent        30854.0  Debt Consolidation      $707.08   \n",
       "256975           Rent       148755.0       Business Loan       $47.11   \n",
       "256976           Rent       148755.0       Business Loan       $47.11   \n",
       "256977  Home Mortgage        39844.0  Debt Consolidation      $982.82   \n",
       "256978  Home Mortgage        39844.0  Debt Consolidation      $982.82   \n",
       "256979           Rent            NaN  Debt Consolidation   $1,706.58    \n",
       "256980       Own Home        77186.0  Debt Consolidation   $1,376.47    \n",
       "256981  Home Mortgage        52504.0  Debt Consolidation      $297.96   \n",
       "256982  Home Mortgage        52504.0  Debt Consolidation      $297.96   \n",
       "256983  Home Mortgage       117480.0  Debt Consolidation   $2,525.82    \n",
       "\n",
       "        Years of Credit History  Months since last delinquent  \\\n",
       "0                          12.3                          41.0   \n",
       "1                          26.3                           NaN   \n",
       "2                          28.8                           NaN   \n",
       "3                          26.2                           NaN   \n",
       "4                          11.5                           NaN   \n",
       "5                          13.2                           NaN   \n",
       "6                          17.6                          73.0   \n",
       "7                          17.6                          73.0   \n",
       "8                          17.7                           NaN   \n",
       "9                          19.8                          29.0   \n",
       "10                         26.8                           NaN   \n",
       "11                         19.2                           NaN   \n",
       "12                          9.9                          43.0   \n",
       "13                          9.9                          43.0   \n",
       "14                          9.9                          43.0   \n",
       "15                          9.9                          43.0   \n",
       "16                         21.0                           NaN   \n",
       "17                         18.8                           NaN   \n",
       "18                         15.0                           NaN   \n",
       "19                         15.0                           NaN   \n",
       "20                         14.9                           NaN   \n",
       "21                         14.9                           NaN   \n",
       "22                         17.8                           NaN   \n",
       "23                         15.4                          79.0   \n",
       "24                         30.3                           NaN   \n",
       "25                         19.9                           NaN   \n",
       "26                         14.0                           NaN   \n",
       "27                         29.6                           NaN   \n",
       "28                         13.6                           2.0   \n",
       "29                         13.8                           NaN   \n",
       "...                         ...                           ...   \n",
       "256954                     17.0                           NaN   \n",
       "256955                      7.0                           NaN   \n",
       "256956                     17.0                          46.0   \n",
       "256957                     32.8                          56.0   \n",
       "256958                      9.9                          22.0   \n",
       "256959                     23.2                          80.0   \n",
       "256960                     27.0                          47.0   \n",
       "256961                     15.1                           NaN   \n",
       "256962                     11.1                          62.0   \n",
       "256963                     11.0                          25.0   \n",
       "256964                     13.9                           NaN   \n",
       "256965                     21.4                           NaN   \n",
       "256966                     21.4                           NaN   \n",
       "256967                     11.4                          18.0   \n",
       "256968                      9.5                           NaN   \n",
       "256969                      9.5                           NaN   \n",
       "256970                     12.5                           NaN   \n",
       "256971                     22.1                          63.0   \n",
       "256972                     22.1                          63.0   \n",
       "256973                     14.8                           NaN   \n",
       "256974                     14.8                           NaN   \n",
       "256975                     34.0                           1.0   \n",
       "256976                     34.0                           1.0   \n",
       "256977                     11.7                           NaN   \n",
       "256978                     11.7                           NaN   \n",
       "256979                     19.9                           NaN   \n",
       "256980                     19.1                          47.0   \n",
       "256981                     15.1                          82.0   \n",
       "256982                     15.1                          82.0   \n",
       "256983                     18.0                          11.0   \n",
       "\n",
       "        Number of Open Accounts  Number of Credit Problems  \\\n",
       "0                            10                          0   \n",
       "1                            17                          0   \n",
       "2                             5                          0   \n",
       "3                             9                          0   \n",
       "4                            12                          0   \n",
       "5                             4                          1   \n",
       "6                             7                          0   \n",
       "7                             7                          0   \n",
       "8                             7                          0   \n",
       "9                             7                          0   \n",
       "10                           11                          0   \n",
       "11                            8                          0   \n",
       "12                            7                          0   \n",
       "13                            7                          0   \n",
       "14                            7                          0   \n",
       "15                            7                          0   \n",
       "16                            5                          1   \n",
       "17                            9                          0   \n",
       "18                           12                          0   \n",
       "19                           12                          0   \n",
       "20                           10                          0   \n",
       "21                           10                          0   \n",
       "22                           13                          1   \n",
       "23                           12                          0   \n",
       "24                            7                          0   \n",
       "25                            9                          0   \n",
       "26                            4                          0   \n",
       "27                           14                          0   \n",
       "28                           12                          0   \n",
       "29                           10                          0   \n",
       "...                         ...                        ...   \n",
       "256954                       17                          0   \n",
       "256955                       14                          0   \n",
       "256956                       12                          0   \n",
       "256957                       10                          1   \n",
       "256958                        8                          0   \n",
       "256959                        7                          1   \n",
       "256960                        9                          1   \n",
       "256961                        9                          1   \n",
       "256962                       15                          0   \n",
       "256963                       17                          0   \n",
       "256964                        8                          0   \n",
       "256965                       23                          0   \n",
       "256966                       23                          0   \n",
       "256967                        9                          0   \n",
       "256968                        8                          0   \n",
       "256969                        8                          0   \n",
       "256970                       10                          0   \n",
       "256971                       10                          1   \n",
       "256972                       10                          1   \n",
       "256973                       18                          0   \n",
       "256974                       18                          0   \n",
       "256975                        3                          0   \n",
       "256976                        3                          0   \n",
       "256977                        9                          1   \n",
       "256978                        9                          1   \n",
       "256979                       16                          0   \n",
       "256980                        9                          0   \n",
       "256981                        8                          0   \n",
       "256982                        8                          0   \n",
       "256983                       10                          0   \n",
       "\n",
       "        Current Credit Balance Maximum Open Credit  Bankruptcies  Tax Liens  \n",
       "0                         6760               16056           0.0        0.0  \n",
       "1                         6262               19149           0.0        0.0  \n",
       "2                        20967               28335           0.0        0.0  \n",
       "3                        22529               43915           0.0        0.0  \n",
       "4                        17391               37081           0.0        0.0  \n",
       "5                         2289                4671           1.0        0.0  \n",
       "6                        14123               16954           0.0        0.0  \n",
       "7                        14123               16954           0.0        0.0  \n",
       "8                        11970               16579           0.0        0.0  \n",
       "9                        10926               15676           0.0        0.0  \n",
       "10                        8880               22711           0.0        0.0  \n",
       "11                       32630               41726           0.0        0.0  \n",
       "12                        6817               22800           0.0        0.0  \n",
       "13                        6810               22775           0.0        0.0  \n",
       "14                        6810               22775           0.0        0.0  \n",
       "15                        6817               22800           0.0        0.0  \n",
       "16                       11514               17262           1.0        0.0  \n",
       "17                        8519               15982           0.0        0.0  \n",
       "18                       17092               20743           0.0        0.0  \n",
       "19                       17092               20743           0.0        0.0  \n",
       "20                       28513              101110           0.0        0.0  \n",
       "21                       28513              101110           0.0        0.0  \n",
       "22                        8488               15866           1.0        0.0  \n",
       "23                        4636               21171           0.0        0.0  \n",
       "24                        9959               16995           0.0        0.0  \n",
       "25                        2184                8989           0.0        0.0  \n",
       "26                        8919                9330           0.0        0.0  \n",
       "27                       47201               54068           0.0        0.0  \n",
       "28                        6720               53335           0.0        0.0  \n",
       "29                        9126               13662           0.0        0.0  \n",
       "...                        ...                 ...           ...        ...  \n",
       "256954                   35089               55520           0.0        0.0  \n",
       "256955                   10116               13071           0.0        0.0  \n",
       "256956                    3686                5191           0.0        0.0  \n",
       "256957                   22110               27637           1.0        0.0  \n",
       "256958                    3274               11175           0.0        0.0  \n",
       "256959                    5022                9248           1.0        0.0  \n",
       "256960                    7297               25336           1.0        0.0  \n",
       "256961                    3860               13592           1.0        0.0  \n",
       "256962                    7114               18336           0.0        0.0  \n",
       "256963                    3146               16050           0.0        0.0  \n",
       "256964                    9284               14644           0.0        0.0  \n",
       "256965                   12818               19160           0.0        0.0  \n",
       "256966                   12818               19160           0.0        0.0  \n",
       "256967                   10629               19793           0.0        0.0  \n",
       "256968                   13415               16440           0.0        0.0  \n",
       "256969                   13415               16440           0.0        0.0  \n",
       "256970                   10013               28690           0.0        0.0  \n",
       "256971                    4237                   0           0.0        0.0  \n",
       "256972                    4237                   0           0.0        0.0  \n",
       "256973                   20183               23496           0.0        0.0  \n",
       "256974                   20183               23496           0.0        0.0  \n",
       "256975                    2590               37004           0.0        0.0  \n",
       "256976                    2590               37004           0.0        0.0  \n",
       "256977                    4176                4783           1.0        0.0  \n",
       "256978                    4176                4783           1.0        0.0  \n",
       "256979                   43992               44080           0.0        0.0  \n",
       "256980                    1717                9758           0.0        0.0  \n",
       "256981                    3315               20090           0.0        0.0  \n",
       "256982                    3315               20090           0.0        0.0  \n",
       "256983                   28317               62371           0.0        0.0  \n",
       "\n",
       "[256984 rows x 19 columns]"
      ]
     },
     "execution_count": 4,
     "metadata": {},
     "output_type": "execute_result"
    }
   ],
   "source": [
    "#call the loan df\n",
    "loan"
   ]
  },
  {
   "cell_type": "markdown",
   "metadata": {},
   "source": [
    "*Note:* We have a loan and customer id. It is important to note that we could have multiple loan id for one particular customer. Loan status signifies if a customer has paid off any given loan or not. Charged off means banks had to take a loss, so the bank had to write it off."
   ]
  },
  {
   "cell_type": "markdown",
   "metadata": {},
   "source": [
    "every loan should have a diff load id, but the customer id would be repeated. if a customer id is repeated its okay (because you may have multple loans) but a loan ID should not be repeated."
   ]
  },
  {
   "cell_type": "code",
   "execution_count": 5,
   "metadata": {},
   "outputs": [
    {
     "data": {
      "text/html": [
       "<div>\n",
       "<style scoped>\n",
       "    .dataframe tbody tr th:only-of-type {\n",
       "        vertical-align: middle;\n",
       "    }\n",
       "\n",
       "    .dataframe tbody tr th {\n",
       "        vertical-align: top;\n",
       "    }\n",
       "\n",
       "    .dataframe thead th {\n",
       "        text-align: right;\n",
       "    }\n",
       "</style>\n",
       "<table border=\"1\" class=\"dataframe\">\n",
       "  <thead>\n",
       "    <tr style=\"text-align: right;\">\n",
       "      <th></th>\n",
       "      <th>Loan ID</th>\n",
       "      <th>Customer ID</th>\n",
       "      <th>Loan Status</th>\n",
       "      <th>Current Loan Amount</th>\n",
       "      <th>Term</th>\n",
       "      <th>Credit Score</th>\n",
       "      <th>Years in current job</th>\n",
       "      <th>Home Ownership</th>\n",
       "      <th>Annual Income</th>\n",
       "      <th>Purpose</th>\n",
       "      <th>Monthly Debt</th>\n",
       "      <th>Years of Credit History</th>\n",
       "      <th>Months since last delinquent</th>\n",
       "      <th>Number of Open Accounts</th>\n",
       "      <th>Number of Credit Problems</th>\n",
       "      <th>Current Credit Balance</th>\n",
       "      <th>Maximum Open Credit</th>\n",
       "      <th>Bankruptcies</th>\n",
       "      <th>Tax Liens</th>\n",
       "    </tr>\n",
       "  </thead>\n",
       "  <tbody>\n",
       "    <tr>\n",
       "      <th>count</th>\n",
       "      <td>256984</td>\n",
       "      <td>256984</td>\n",
       "      <td>256984</td>\n",
       "      <td>2.569840e+05</td>\n",
       "      <td>256984</td>\n",
       "      <td>195308.000000</td>\n",
       "      <td>245508</td>\n",
       "      <td>256984</td>\n",
       "      <td>1.953080e+05</td>\n",
       "      <td>256984</td>\n",
       "      <td>256984</td>\n",
       "      <td>256984.000000</td>\n",
       "      <td>116601.000000</td>\n",
       "      <td>256984.000000</td>\n",
       "      <td>256984.000000</td>\n",
       "      <td>2.569840e+05</td>\n",
       "      <td>256984.0</td>\n",
       "      <td>256455.000000</td>\n",
       "      <td>256961.000000</td>\n",
       "    </tr>\n",
       "    <tr>\n",
       "      <th>unique</th>\n",
       "      <td>215700</td>\n",
       "      <td>215700</td>\n",
       "      <td>2</td>\n",
       "      <td>NaN</td>\n",
       "      <td>2</td>\n",
       "      <td>NaN</td>\n",
       "      <td>11</td>\n",
       "      <td>4</td>\n",
       "      <td>NaN</td>\n",
       "      <td>10</td>\n",
       "      <td>129115</td>\n",
       "      <td>NaN</td>\n",
       "      <td>NaN</td>\n",
       "      <td>NaN</td>\n",
       "      <td>NaN</td>\n",
       "      <td>NaN</td>\n",
       "      <td>87188.0</td>\n",
       "      <td>NaN</td>\n",
       "      <td>NaN</td>\n",
       "    </tr>\n",
       "    <tr>\n",
       "      <th>top</th>\n",
       "      <td>e9fc7543-b166-4a95-8744-dfbb75cc9ba4</td>\n",
       "      <td>96f375a2-6314-4abf-a50e-e4c02aed77d1</td>\n",
       "      <td>Fully Paid</td>\n",
       "      <td>NaN</td>\n",
       "      <td>Short Term</td>\n",
       "      <td>NaN</td>\n",
       "      <td>10+ years</td>\n",
       "      <td>Home Mortgage</td>\n",
       "      <td>NaN</td>\n",
       "      <td>Debt Consolidation</td>\n",
       "      <td>$0.00</td>\n",
       "      <td>NaN</td>\n",
       "      <td>NaN</td>\n",
       "      <td>NaN</td>\n",
       "      <td>NaN</td>\n",
       "      <td>NaN</td>\n",
       "      <td>0.0</td>\n",
       "      <td>NaN</td>\n",
       "      <td>NaN</td>\n",
       "    </tr>\n",
       "    <tr>\n",
       "      <th>freq</th>\n",
       "      <td>4</td>\n",
       "      <td>4</td>\n",
       "      <td>176191</td>\n",
       "      <td>NaN</td>\n",
       "      <td>192632</td>\n",
       "      <td>NaN</td>\n",
       "      <td>78896</td>\n",
       "      <td>124477</td>\n",
       "      <td>NaN</td>\n",
       "      <td>203911</td>\n",
       "      <td>254</td>\n",
       "      <td>NaN</td>\n",
       "      <td>NaN</td>\n",
       "      <td>NaN</td>\n",
       "      <td>NaN</td>\n",
       "      <td>NaN</td>\n",
       "      <td>1597.0</td>\n",
       "      <td>NaN</td>\n",
       "      <td>NaN</td>\n",
       "    </tr>\n",
       "    <tr>\n",
       "      <th>mean</th>\n",
       "      <td>NaN</td>\n",
       "      <td>NaN</td>\n",
       "      <td>NaN</td>\n",
       "      <td>1.371331e+07</td>\n",
       "      <td>NaN</td>\n",
       "      <td>1251.116099</td>\n",
       "      <td>NaN</td>\n",
       "      <td>NaN</td>\n",
       "      <td>7.195272e+04</td>\n",
       "      <td>NaN</td>\n",
       "      <td>NaN</td>\n",
       "      <td>18.290195</td>\n",
       "      <td>34.881450</td>\n",
       "      <td>11.106267</td>\n",
       "      <td>0.156628</td>\n",
       "      <td>1.540656e+04</td>\n",
       "      <td>NaN</td>\n",
       "      <td>0.110316</td>\n",
       "      <td>0.027203</td>\n",
       "    </tr>\n",
       "    <tr>\n",
       "      <th>std</th>\n",
       "      <td>NaN</td>\n",
       "      <td>NaN</td>\n",
       "      <td>NaN</td>\n",
       "      <td>3.438131e+07</td>\n",
       "      <td>NaN</td>\n",
       "      <td>1762.016848</td>\n",
       "      <td>NaN</td>\n",
       "      <td>NaN</td>\n",
       "      <td>5.887757e+04</td>\n",
       "      <td>NaN</td>\n",
       "      <td>NaN</td>\n",
       "      <td>7.075747</td>\n",
       "      <td>21.854165</td>\n",
       "      <td>4.982982</td>\n",
       "      <td>0.460731</td>\n",
       "      <td>1.966506e+04</td>\n",
       "      <td>NaN</td>\n",
       "      <td>0.336229</td>\n",
       "      <td>0.245950</td>\n",
       "    </tr>\n",
       "    <tr>\n",
       "      <th>min</th>\n",
       "      <td>NaN</td>\n",
       "      <td>NaN</td>\n",
       "      <td>NaN</td>\n",
       "      <td>5.050000e+02</td>\n",
       "      <td>NaN</td>\n",
       "      <td>585.000000</td>\n",
       "      <td>NaN</td>\n",
       "      <td>NaN</td>\n",
       "      <td>0.000000e+00</td>\n",
       "      <td>NaN</td>\n",
       "      <td>NaN</td>\n",
       "      <td>3.400000</td>\n",
       "      <td>0.000000</td>\n",
       "      <td>0.000000</td>\n",
       "      <td>0.000000</td>\n",
       "      <td>0.000000e+00</td>\n",
       "      <td>NaN</td>\n",
       "      <td>0.000000</td>\n",
       "      <td>0.000000</td>\n",
       "    </tr>\n",
       "    <tr>\n",
       "      <th>25%</th>\n",
       "      <td>NaN</td>\n",
       "      <td>NaN</td>\n",
       "      <td>NaN</td>\n",
       "      <td>8.299000e+03</td>\n",
       "      <td>NaN</td>\n",
       "      <td>714.000000</td>\n",
       "      <td>NaN</td>\n",
       "      <td>NaN</td>\n",
       "      <td>4.432100e+04</td>\n",
       "      <td>NaN</td>\n",
       "      <td>NaN</td>\n",
       "      <td>13.500000</td>\n",
       "      <td>16.000000</td>\n",
       "      <td>8.000000</td>\n",
       "      <td>0.000000</td>\n",
       "      <td>5.974000e+03</td>\n",
       "      <td>NaN</td>\n",
       "      <td>0.000000</td>\n",
       "      <td>0.000000</td>\n",
       "    </tr>\n",
       "    <tr>\n",
       "      <th>50%</th>\n",
       "      <td>NaN</td>\n",
       "      <td>NaN</td>\n",
       "      <td>NaN</td>\n",
       "      <td>1.429800e+04</td>\n",
       "      <td>NaN</td>\n",
       "      <td>733.000000</td>\n",
       "      <td>NaN</td>\n",
       "      <td>NaN</td>\n",
       "      <td>6.124200e+04</td>\n",
       "      <td>NaN</td>\n",
       "      <td>NaN</td>\n",
       "      <td>17.000000</td>\n",
       "      <td>32.000000</td>\n",
       "      <td>10.000000</td>\n",
       "      <td>0.000000</td>\n",
       "      <td>1.107800e+04</td>\n",
       "      <td>NaN</td>\n",
       "      <td>0.000000</td>\n",
       "      <td>0.000000</td>\n",
       "    </tr>\n",
       "    <tr>\n",
       "      <th>75%</th>\n",
       "      <td>NaN</td>\n",
       "      <td>NaN</td>\n",
       "      <td>NaN</td>\n",
       "      <td>2.436700e+04</td>\n",
       "      <td>NaN</td>\n",
       "      <td>744.000000</td>\n",
       "      <td>NaN</td>\n",
       "      <td>NaN</td>\n",
       "      <td>8.646200e+04</td>\n",
       "      <td>NaN</td>\n",
       "      <td>NaN</td>\n",
       "      <td>21.700000</td>\n",
       "      <td>51.000000</td>\n",
       "      <td>14.000000</td>\n",
       "      <td>0.000000</td>\n",
       "      <td>1.931900e+04</td>\n",
       "      <td>NaN</td>\n",
       "      <td>0.000000</td>\n",
       "      <td>0.000000</td>\n",
       "    </tr>\n",
       "    <tr>\n",
       "      <th>max</th>\n",
       "      <td>NaN</td>\n",
       "      <td>NaN</td>\n",
       "      <td>NaN</td>\n",
       "      <td>1.000000e+08</td>\n",
       "      <td>NaN</td>\n",
       "      <td>7510.000000</td>\n",
       "      <td>NaN</td>\n",
       "      <td>NaN</td>\n",
       "      <td>8.713547e+06</td>\n",
       "      <td>NaN</td>\n",
       "      <td>NaN</td>\n",
       "      <td>70.500000</td>\n",
       "      <td>176.000000</td>\n",
       "      <td>76.000000</td>\n",
       "      <td>11.000000</td>\n",
       "      <td>1.731412e+06</td>\n",
       "      <td>NaN</td>\n",
       "      <td>7.000000</td>\n",
       "      <td>11.000000</td>\n",
       "    </tr>\n",
       "  </tbody>\n",
       "</table>\n",
       "</div>"
      ],
      "text/plain": [
       "                                     Loan ID  \\\n",
       "count                                 256984   \n",
       "unique                                215700   \n",
       "top     e9fc7543-b166-4a95-8744-dfbb75cc9ba4   \n",
       "freq                                       4   \n",
       "mean                                     NaN   \n",
       "std                                      NaN   \n",
       "min                                      NaN   \n",
       "25%                                      NaN   \n",
       "50%                                      NaN   \n",
       "75%                                      NaN   \n",
       "max                                      NaN   \n",
       "\n",
       "                                 Customer ID Loan Status  Current Loan Amount  \\\n",
       "count                                 256984      256984         2.569840e+05   \n",
       "unique                                215700           2                  NaN   \n",
       "top     96f375a2-6314-4abf-a50e-e4c02aed77d1  Fully Paid                  NaN   \n",
       "freq                                       4      176191                  NaN   \n",
       "mean                                     NaN         NaN         1.371331e+07   \n",
       "std                                      NaN         NaN         3.438131e+07   \n",
       "min                                      NaN         NaN         5.050000e+02   \n",
       "25%                                      NaN         NaN         8.299000e+03   \n",
       "50%                                      NaN         NaN         1.429800e+04   \n",
       "75%                                      NaN         NaN         2.436700e+04   \n",
       "max                                      NaN         NaN         1.000000e+08   \n",
       "\n",
       "              Term   Credit Score Years in current job Home Ownership  \\\n",
       "count       256984  195308.000000               245508         256984   \n",
       "unique           2            NaN                   11              4   \n",
       "top     Short Term            NaN            10+ years  Home Mortgage   \n",
       "freq        192632            NaN                78896         124477   \n",
       "mean           NaN    1251.116099                  NaN            NaN   \n",
       "std            NaN    1762.016848                  NaN            NaN   \n",
       "min            NaN     585.000000                  NaN            NaN   \n",
       "25%            NaN     714.000000                  NaN            NaN   \n",
       "50%            NaN     733.000000                  NaN            NaN   \n",
       "75%            NaN     744.000000                  NaN            NaN   \n",
       "max            NaN    7510.000000                  NaN            NaN   \n",
       "\n",
       "        Annual Income             Purpose Monthly Debt  \\\n",
       "count    1.953080e+05              256984       256984   \n",
       "unique            NaN                  10       129115   \n",
       "top               NaN  Debt Consolidation        $0.00   \n",
       "freq              NaN              203911          254   \n",
       "mean     7.195272e+04                 NaN          NaN   \n",
       "std      5.887757e+04                 NaN          NaN   \n",
       "min      0.000000e+00                 NaN          NaN   \n",
       "25%      4.432100e+04                 NaN          NaN   \n",
       "50%      6.124200e+04                 NaN          NaN   \n",
       "75%      8.646200e+04                 NaN          NaN   \n",
       "max      8.713547e+06                 NaN          NaN   \n",
       "\n",
       "        Years of Credit History  Months since last delinquent  \\\n",
       "count             256984.000000                 116601.000000   \n",
       "unique                      NaN                           NaN   \n",
       "top                         NaN                           NaN   \n",
       "freq                        NaN                           NaN   \n",
       "mean                  18.290195                     34.881450   \n",
       "std                    7.075747                     21.854165   \n",
       "min                    3.400000                      0.000000   \n",
       "25%                   13.500000                     16.000000   \n",
       "50%                   17.000000                     32.000000   \n",
       "75%                   21.700000                     51.000000   \n",
       "max                   70.500000                    176.000000   \n",
       "\n",
       "        Number of Open Accounts  Number of Credit Problems  \\\n",
       "count             256984.000000              256984.000000   \n",
       "unique                      NaN                        NaN   \n",
       "top                         NaN                        NaN   \n",
       "freq                        NaN                        NaN   \n",
       "mean                  11.106267                   0.156628   \n",
       "std                    4.982982                   0.460731   \n",
       "min                    0.000000                   0.000000   \n",
       "25%                    8.000000                   0.000000   \n",
       "50%                   10.000000                   0.000000   \n",
       "75%                   14.000000                   0.000000   \n",
       "max                   76.000000                  11.000000   \n",
       "\n",
       "        Current Credit Balance  Maximum Open Credit   Bankruptcies  \\\n",
       "count             2.569840e+05             256984.0  256455.000000   \n",
       "unique                     NaN              87188.0            NaN   \n",
       "top                        NaN                  0.0            NaN   \n",
       "freq                       NaN               1597.0            NaN   \n",
       "mean              1.540656e+04                  NaN       0.110316   \n",
       "std               1.966506e+04                  NaN       0.336229   \n",
       "min               0.000000e+00                  NaN       0.000000   \n",
       "25%               5.974000e+03                  NaN       0.000000   \n",
       "50%               1.107800e+04                  NaN       0.000000   \n",
       "75%               1.931900e+04                  NaN       0.000000   \n",
       "max               1.731412e+06                  NaN       7.000000   \n",
       "\n",
       "            Tax Liens  \n",
       "count   256961.000000  \n",
       "unique            NaN  \n",
       "top               NaN  \n",
       "freq              NaN  \n",
       "mean         0.027203  \n",
       "std          0.245950  \n",
       "min          0.000000  \n",
       "25%          0.000000  \n",
       "50%          0.000000  \n",
       "75%          0.000000  \n",
       "max         11.000000  "
      ]
     },
     "execution_count": 5,
     "metadata": {},
     "output_type": "execute_result"
    }
   ],
   "source": [
    "#show summary for numerical and categorical data\n",
    "loan.describe(include='all')"
   ]
  },
  {
   "cell_type": "markdown",
   "metadata": {},
   "source": [
    "*Note*: the difference between loan id count and loan id unique count. this means that we have repeated loan ids. you can't have the same loan id for different loans. so we need to find out how many of the rows are duplicated and then get rid of the duplicates."
   ]
  },
  {
   "cell_type": "code",
   "execution_count": 6,
   "metadata": {},
   "outputs": [
    {
     "data": {
      "text/plain": [
       "215700"
      ]
     },
     "execution_count": 6,
     "metadata": {},
     "output_type": "execute_result"
    }
   ],
   "source": [
    "#use the fucntion n unique to idenitfy the duplicates of loan id\n",
    "loan['Loan ID'].nunique()"
   ]
  },
  {
   "cell_type": "code",
   "execution_count": 7,
   "metadata": {},
   "outputs": [
    {
     "data": {
      "text/plain": [
       "256984"
      ]
     },
     "execution_count": 7,
     "metadata": {},
     "output_type": "execute_result"
    }
   ],
   "source": [
    "loan['Loan ID'].count()"
   ]
  },
  {
   "cell_type": "code",
   "execution_count": 8,
   "metadata": {},
   "outputs": [
    {
     "data": {
      "text/plain": [
       "41284"
      ]
     },
     "execution_count": 8,
     "metadata": {},
     "output_type": "execute_result"
    }
   ],
   "source": [
    "loan['Loan ID'].count() - loan['Loan ID'].nunique()"
   ]
  },
  {
   "cell_type": "code",
   "execution_count": 9,
   "metadata": {},
   "outputs": [
    {
     "data": {
      "text/plain": [
       "e9fc7543-b166-4a95-8744-dfbb75cc9ba4    4\n",
       "9aa5a9c3-eb3d-4c4d-b8a6-8cf5b18d4b28    4\n",
       "aa92b16b-9153-434c-816a-e84104fc04c9    4\n",
       "1f5d70e2-f6f1-4f74-9c93-ed9f02b077d4    4\n",
       "aea790fa-2538-43f9-bd0f-48ade7983170    4\n",
       "100831df-bac2-4846-a3b7-08a06db4c62a    4\n",
       "50601504-1e70-4588-8271-6bf215333a8c    4\n",
       "8ccf2f1c-9cfe-4879-869e-784ad1c28a91    4\n",
       "deab27c3-ebd0-45f9-be33-15d2b5ab05ca    4\n",
       "e6bd4d3c-b4cc-4f96-9b97-b36a601a4c43    4\n",
       "ecc46fbc-e073-4498-b31e-efcf25c9195c    4\n",
       "a2f45ad3-c591-4710-96a8-8ae9abb4a202    4\n",
       "dacf2b1e-2498-498c-9791-5ff59c38d2b8    4\n",
       "6f31a5bb-a7c0-46cd-a652-2a7d9fcfdb58    4\n",
       "d1f3209e-bc78-44a2-85fe-f4120a0c3b4e    4\n",
       "9fa4e052-1e55-42d8-bf98-e8e387f02b97    4\n",
       "461404ca-f8f2-4197-8b5a-9d2b54cb2d7c    4\n",
       "25e97bdf-5076-48e0-8651-a638c8bde663    4\n",
       "a3c7a721-9f2e-43f7-90b9-0842107a3eab    4\n",
       "7b6dd60f-f8aa-4e39-b411-9a6ed4e67dc2    4\n",
       "b06360f5-1682-4796-a00f-287584e17f8e    4\n",
       "342b4ed3-40e1-482d-b116-c2ac088a9131    4\n",
       "6ec4ca9f-69a8-4667-a16e-3e50a947f53a    4\n",
       "af6369bc-e3be-4812-a885-4610f6037ffb    4\n",
       "ee15d873-2c06-40bf-8e8a-6f872b8043bf    4\n",
       "8c55ae84-a231-402a-a6cc-4a96e8f68186    4\n",
       "e626c608-b0a9-4d71-a3c3-df5a7ec1e84d    4\n",
       "714f321f-056c-48dd-a3e2-8faccff555ca    4\n",
       "ebf271f7-0633-412c-8bcc-21a8f62214e6    4\n",
       "30cc5899-feaf-43c9-898d-28285ff95cd2    4\n",
       "                                       ..\n",
       "a68c4dec-edeb-4b8a-89e1-43beef2b8f66    1\n",
       "49c1bfa7-704d-4875-a5a5-d665c626291f    1\n",
       "4ca2ecf4-84fd-4d9b-ae5c-66bf444b0adf    1\n",
       "95744aa5-e04a-4e35-a2c3-439b7b0ebe06    1\n",
       "35dd4ed3-5ef0-4b97-84d6-b27c67cdff45    1\n",
       "b3dbfa93-cc14-4880-8424-15d48b7d06d8    1\n",
       "c2af330e-6b99-4181-a43f-c3e7eafdd725    1\n",
       "fb2bc5fd-33de-43ec-88ca-14d10e1f06dc    1\n",
       "52d7eb91-9891-42a5-af0f-053f243dfec8    1\n",
       "4d9e4dcd-d89c-4212-a487-5941fe13ec88    1\n",
       "d78f1cce-94bd-487c-a852-416a5ee92772    1\n",
       "89d2b7fc-a972-4793-a7ea-583ab2b52b92    1\n",
       "5718978c-f154-4622-acbb-1ddee64f8d1b    1\n",
       "a038799d-eaec-4422-b320-fc941c2ea6c2    1\n",
       "065ff381-1951-4cc8-8372-41b2e5377332    1\n",
       "a5d02303-abdb-4482-8003-4cb11e03a909    1\n",
       "50310271-9bc7-4471-bce7-8c731e9f305b    1\n",
       "021bff5f-8178-4a13-bded-1761265dc896    1\n",
       "70622dc7-0600-4754-b30d-1e6aab1fb453    1\n",
       "575e27bf-783c-45fc-8fb1-fde32b32a558    1\n",
       "bbeeb9d8-1401-42c6-bb3c-afd2d4f7c2f2    1\n",
       "cfb9e90c-f069-414a-a1b3-41f6c1e67087    1\n",
       "7f51d37c-72bd-4cdf-be4b-66bb70eb5559    1\n",
       "57644767-8334-4835-8718-8dc11b49b266    1\n",
       "bfd3a2fe-a4fc-4cd6-aea2-ba89631f6abe    1\n",
       "747095d7-c5ca-486a-a396-96f15d6fada6    1\n",
       "be8aa119-5872-4a4e-991d-09c65fbec246    1\n",
       "2e03d436-55fc-4538-9719-b84883650955    1\n",
       "fd6c7706-bfa1-4af7-83ad-8430a39b23ab    1\n",
       "fa8120f3-2d50-4994-8fb4-419b74ce099a    1\n",
       "Name: Loan ID, Length: 215700, dtype: int64"
      ]
     },
     "execution_count": 9,
     "metadata": {},
     "output_type": "execute_result"
    }
   ],
   "source": [
    "#whats the max number of times a loan id was repeated\n",
    "loan['Loan ID'].value_counts()"
   ]
  },
  {
   "cell_type": "markdown",
   "metadata": {},
   "source": [
    "based on the output we can see that some of the loan ids were duplicated up to 4x. we should be left with 215k rows after we remove duplicates (how we know we successfully removed the correct amount)."
   ]
  },
  {
   "cell_type": "code",
   "execution_count": 10,
   "metadata": {},
   "outputs": [],
   "source": [
    "# drop duplicates based on loan id\n",
    "loan.drop_duplicates(subset='Loan ID', inplace=True)"
   ]
  },
  {
   "cell_type": "code",
   "execution_count": 11,
   "metadata": {},
   "outputs": [
    {
     "data": {
      "text/plain": [
       "(215700, 19)"
      ]
     },
     "execution_count": 11,
     "metadata": {},
     "output_type": "execute_result"
    }
   ],
   "source": [
    "loan.shape"
   ]
  },
  {
   "cell_type": "markdown",
   "metadata": {},
   "source": [
    "we were successful because this output showed the correct number of rows. now we can split the dataframe."
   ]
  },
  {
   "cell_type": "markdown",
   "metadata": {},
   "source": [
    "# Assign Indep. & Dependent Variables"
   ]
  },
  {
   "cell_type": "markdown",
   "metadata": {},
   "source": [
    "Loan status would be your dependent variable.\n",
    "Everything else is an x variable."
   ]
  },
  {
   "cell_type": "code",
   "execution_count": 12,
   "metadata": {},
   "outputs": [],
   "source": [
    "#assign the dependent variable, your y\n",
    "y = loan['Loan Status']"
   ]
  },
  {
   "cell_type": "code",
   "execution_count": 13,
   "metadata": {},
   "outputs": [],
   "source": [
    "#assign x as everything else other than loan status\n",
    "X = loan.drop(['Loan Status'], axis=1)"
   ]
  },
  {
   "cell_type": "markdown",
   "metadata": {},
   "source": [
    "# Split the Data"
   ]
  },
  {
   "cell_type": "code",
   "execution_count": 14,
   "metadata": {},
   "outputs": [],
   "source": [
    "#split the data\n",
    "from sklearn.model_selection import train_test_split\n",
    "#out of 100% of the data, 20% we will allocate to test, 80% to train\n",
    "#(arguments: X= all the other columns/ variables, Y is the Loan Status)\n",
    "# .2 \n",
    "#when you do train test split, divide entire df into into these 4 pieces, or df(s)\n",
    "X_loan_train, X_loan_test, y_loan_train, y_loan_test = train_test_split(X,y,test_size=0.2)"
   ]
  },
  {
   "cell_type": "markdown",
   "metadata": {},
   "source": [
    "once complete, test_train_split, we have to check the shape of the 4 dataframes"
   ]
  },
  {
   "cell_type": "code",
   "execution_count": 15,
   "metadata": {},
   "outputs": [
    {
     "data": {
      "text/plain": [
       "((172560, 18), (43140, 18), (172560,), (43140,))"
      ]
     },
     "execution_count": 15,
     "metadata": {},
     "output_type": "execute_result"
    }
   ],
   "source": [
    "X_loan_train.shape, X_loan_test.shape, y_loan_train.shape, y_loan_test.shape"
   ]
  },
  {
   "cell_type": "markdown",
   "metadata": {},
   "source": [
    "this validates that our x and y of training and testing dataframes are equivalent (same # of rows must be same for the dependent and indep. variables from each dataframe. now we can move on.. "
   ]
  },
  {
   "cell_type": "markdown",
   "metadata": {},
   "source": [
    "# Begin Training Dataset Work"
   ]
  },
  {
   "cell_type": "markdown",
   "metadata": {},
   "source": [
    "We need to find out how many columns are numeric and how many are object. We need to convert all object columns into numeric becuase the computer can only read numbers."
   ]
  },
  {
   "cell_type": "code",
   "execution_count": 16,
   "metadata": {},
   "outputs": [
    {
     "name": "stdout",
     "output_type": "stream",
     "text": [
      "<class 'pandas.core.frame.DataFrame'>\n",
      "Int64Index: 172560 entries, 88212 to 19027\n",
      "Data columns (total 18 columns):\n",
      "Loan ID                         172560 non-null object\n",
      "Customer ID                     172560 non-null object\n",
      "Current Loan Amount             172560 non-null int64\n",
      "Term                            172560 non-null object\n",
      "Credit Score                    128544 non-null float64\n",
      "Years in current job            165358 non-null object\n",
      "Home Ownership                  172560 non-null object\n",
      "Annual Income                   128544 non-null float64\n",
      "Purpose                         172560 non-null object\n",
      "Monthly Debt                    172560 non-null object\n",
      "Years of Credit History         172560 non-null float64\n",
      "Months since last delinquent    77990 non-null float64\n",
      "Number of Open Accounts         172560 non-null int64\n",
      "Number of Credit Problems       172560 non-null int64\n",
      "Current Credit Balance          172560 non-null int64\n",
      "Maximum Open Credit             172560 non-null object\n",
      "Bankruptcies                    172190 non-null float64\n",
      "Tax Liens                       172542 non-null float64\n",
      "dtypes: float64(6), int64(4), object(8)\n",
      "memory usage: 25.0+ MB\n"
     ]
    }
   ],
   "source": [
    "X_loan_train.info()"
   ]
  },
  {
   "cell_type": "markdown",
   "metadata": {},
   "source": [
    "Now we have to find out the missing values for each of the dataframes."
   ]
  },
  {
   "cell_type": "markdown",
   "metadata": {},
   "source": [
    "## X_loan_train Data Cleaning"
   ]
  },
  {
   "cell_type": "code",
   "execution_count": 17,
   "metadata": {},
   "outputs": [
    {
     "data": {
      "text/plain": [
       "Loan ID                             0\n",
       "Customer ID                         0\n",
       "Current Loan Amount                 0\n",
       "Term                                0\n",
       "Credit Score                    44016\n",
       "Years in current job             7202\n",
       "Home Ownership                      0\n",
       "Annual Income                   44016\n",
       "Purpose                             0\n",
       "Monthly Debt                        0\n",
       "Years of Credit History             0\n",
       "Months since last delinquent    94570\n",
       "Number of Open Accounts             0\n",
       "Number of Credit Problems           0\n",
       "Current Credit Balance              0\n",
       "Maximum Open Credit                 0\n",
       "Bankruptcies                      370\n",
       "Tax Liens                          18\n",
       "dtype: int64"
      ]
     },
     "execution_count": 17,
     "metadata": {},
     "output_type": "execute_result"
    }
   ],
   "source": [
    "#show us a summary off all the empty fields by column name\n",
    "X_loan_train.isnull().sum()"
   ]
  },
  {
   "cell_type": "markdown",
   "metadata": {},
   "source": [
    "*Note:* we will have to fill in data points for 6 columns. We will start with the smallest amount of values to fill. Be sure to distinguish which are object. Years in current job is object that has to be converted to numeric."
   ]
  },
  {
   "cell_type": "markdown",
   "metadata": {},
   "source": [
    "Cleaning to do list: Tax Liens, Bankruptcies, Months since last delinquent, Annual Income, Years in current job, Credit score. \n",
    "\n",
    "Object: Years in current job\n",
    "Numeric: Tax Liens, Bankruptcies, Months since last delinquent, Annual Income, Credit score. \n",
    "(we find this out when we did .info()"
   ]
  },
  {
   "cell_type": "markdown",
   "metadata": {},
   "source": [
    "### Clean: Tax Liens"
   ]
  },
  {
   "cell_type": "code",
   "execution_count": 18,
   "metadata": {},
   "outputs": [
    {
     "data": {
      "text/plain": [
       "count    172542.000000\n",
       "mean          0.026133\n",
       "std           0.239139\n",
       "min           0.000000\n",
       "25%           0.000000\n",
       "50%           0.000000\n",
       "75%           0.000000\n",
       "max          11.000000\n",
       "Name: Tax Liens, dtype: float64"
      ]
     },
     "execution_count": 18,
     "metadata": {},
     "output_type": "execute_result"
    }
   ],
   "source": [
    "#show us the mean and the median\n",
    "X_loan_train['Tax Liens'].describe()"
   ]
  },
  {
   "cell_type": "code",
   "execution_count": 19,
   "metadata": {
    "scrolled": true
   },
   "outputs": [
    {
     "data": {
      "text/plain": [
       "0.0     169501\n",
       "1.0       2179\n",
       "2.0        565\n",
       "3.0        151\n",
       "4.0         71\n",
       "5.0         37\n",
       "NaN         18\n",
       "6.0         18\n",
       "8.0          7\n",
       "7.0          5\n",
       "9.0          3\n",
       "10.0         3\n",
       "11.0         2\n",
       "Name: Tax Liens, dtype: int64"
      ]
     },
     "execution_count": 19,
     "metadata": {},
     "output_type": "execute_result"
    }
   ],
   "source": [
    "#show us our unique values, tells us all the diff values\n",
    "#count the nulls also\n",
    "X_loan_train['Tax Liens'].value_counts(dropna=False)"
   ]
  },
  {
   "cell_type": "markdown",
   "metadata": {},
   "source": [
    "We can see here that 17 people had null values. 170k people had 0 tax liens. We can pick the mean or the median because they are very close to eachother. median is 0, mean is .02."
   ]
  },
  {
   "cell_type": "code",
   "execution_count": 20,
   "metadata": {
    "scrolled": true
   },
   "outputs": [
    {
     "name": "stderr",
     "output_type": "stream",
     "text": [
      "/Users/alisonbunce/anaconda3/lib/python3.7/site-packages/pandas/core/generic.py:6130: SettingWithCopyWarning: \n",
      "A value is trying to be set on a copy of a slice from a DataFrame\n",
      "\n",
      "See the caveats in the documentation: http://pandas.pydata.org/pandas-docs/stable/indexing.html#indexing-view-versus-copy\n",
      "  self._update_inplace(new_data)\n"
     ]
    }
   ],
   "source": [
    "X_loan_train['Tax Liens'].fillna(X_loan_train['Tax Liens'].mean(), inplace=True)"
   ]
  },
  {
   "cell_type": "code",
   "execution_count": 21,
   "metadata": {},
   "outputs": [
    {
     "data": {
      "text/plain": [
       "0"
      ]
     },
     "execution_count": 21,
     "metadata": {},
     "output_type": "execute_result"
    }
   ],
   "source": [
    "#double check that there are no more null values for this column\n",
    "X_loan_train['Tax Liens'].isnull().sum()"
   ]
  },
  {
   "cell_type": "markdown",
   "metadata": {},
   "source": [
    "### Clean: Bankruptcies "
   ]
  },
  {
   "cell_type": "code",
   "execution_count": 22,
   "metadata": {},
   "outputs": [
    {
     "data": {
      "text/plain": [
       "count    172190.000000\n",
       "mean          0.110088\n",
       "std           0.336585\n",
       "min           0.000000\n",
       "25%           0.000000\n",
       "50%           0.000000\n",
       "75%           0.000000\n",
       "max           7.000000\n",
       "Name: Bankruptcies, dtype: float64"
      ]
     },
     "execution_count": 22,
     "metadata": {},
     "output_type": "execute_result"
    }
   ],
   "source": [
    "X_loan_train.Bankruptcies.describe()"
   ]
  },
  {
   "cell_type": "code",
   "execution_count": 23,
   "metadata": {},
   "outputs": [
    {
     "data": {
      "text/plain": [
       "0.0    154257\n",
       "1.0     17124\n",
       "2.0       650\n",
       "NaN       370\n",
       "3.0       125\n",
       "4.0        18\n",
       "5.0        12\n",
       "6.0         3\n",
       "7.0         1\n",
       "Name: Bankruptcies, dtype: int64"
      ]
     },
     "execution_count": 23,
     "metadata": {},
     "output_type": "execute_result"
    }
   ],
   "source": [
    "X_loan_train.Bankruptcies.value_counts(dropna=False)"
   ]
  },
  {
   "cell_type": "code",
   "execution_count": 24,
   "metadata": {},
   "outputs": [
    {
     "data": {
      "text/plain": [
       "370"
      ]
     },
     "execution_count": 24,
     "metadata": {},
     "output_type": "execute_result"
    }
   ],
   "source": [
    "X_loan_train.Bankruptcies.isnull().sum()"
   ]
  },
  {
   "cell_type": "code",
   "execution_count": 25,
   "metadata": {},
   "outputs": [],
   "source": [
    "X_loan_train.Bankruptcies.fillna(X_loan_train.Bankruptcies.mean(), inplace=True)"
   ]
  },
  {
   "cell_type": "code",
   "execution_count": 26,
   "metadata": {},
   "outputs": [
    {
     "data": {
      "text/plain": [
       "0"
      ]
     },
     "execution_count": 26,
     "metadata": {},
     "output_type": "execute_result"
    }
   ],
   "source": [
    "X_loan_train.Bankruptcies.isnull().sum()"
   ]
  },
  {
   "cell_type": "markdown",
   "metadata": {},
   "source": [
    "### Clean: Months since last delinquent"
   ]
  },
  {
   "cell_type": "code",
   "execution_count": 27,
   "metadata": {},
   "outputs": [
    {
     "data": {
      "text/plain": [
       "count    77990.000000\n",
       "mean        35.082062\n",
       "std         21.822405\n",
       "min          0.000000\n",
       "25%         17.000000\n",
       "50%         32.000000\n",
       "75%         51.000000\n",
       "max        176.000000\n",
       "Name: Months since last delinquent, dtype: float64"
      ]
     },
     "execution_count": 27,
     "metadata": {},
     "output_type": "execute_result"
    }
   ],
   "source": [
    "X_loan_train['Months since last delinquent'].describe()"
   ]
  },
  {
   "cell_type": "code",
   "execution_count": 28,
   "metadata": {},
   "outputs": [
    {
     "data": {
      "text/plain": [
       "NaN      94570\n",
       "14.0      1484\n",
       "12.0      1455\n",
       "9.0       1422\n",
       "8.0       1407\n",
       "18.0      1404\n",
       "15.0      1379\n",
       "10.0      1370\n",
       "17.0      1359\n",
       "16.0      1359\n",
       "7.0       1355\n",
       "13.0      1354\n",
       "6.0       1349\n",
       "11.0      1334\n",
       "19.0      1318\n",
       "20.0      1291\n",
       "30.0      1287\n",
       "21.0      1267\n",
       "23.0      1265\n",
       "28.0      1249\n",
       "27.0      1247\n",
       "25.0      1244\n",
       "26.0      1232\n",
       "22.0      1224\n",
       "24.0      1212\n",
       "31.0      1190\n",
       "29.0      1186\n",
       "35.0      1148\n",
       "34.0      1146\n",
       "36.0      1143\n",
       "         ...  \n",
       "120.0        2\n",
       "106.0        2\n",
       "92.0         2\n",
       "93.0         2\n",
       "110.0        2\n",
       "104.0        2\n",
       "101.0        2\n",
       "118.0        1\n",
       "131.0        1\n",
       "107.0        1\n",
       "133.0        1\n",
       "116.0        1\n",
       "109.0        1\n",
       "113.0        1\n",
       "115.0        1\n",
       "122.0        1\n",
       "114.0        1\n",
       "130.0        1\n",
       "108.0        1\n",
       "98.0         1\n",
       "97.0         1\n",
       "176.0        1\n",
       "119.0        1\n",
       "140.0        1\n",
       "112.0        1\n",
       "143.0        1\n",
       "151.0        1\n",
       "134.0        1\n",
       "148.0        1\n",
       "149.0        1\n",
       "Name: Months since last delinquent, Length: 130, dtype: int64"
      ]
     },
     "execution_count": 28,
     "metadata": {},
     "output_type": "execute_result"
    }
   ],
   "source": [
    "X_loan_train['Months since last delinquent'].value_counts(dropna=False)"
   ]
  },
  {
   "cell_type": "code",
   "execution_count": 29,
   "metadata": {},
   "outputs": [],
   "source": [
    "X_loan_train['Months since last delinquent'].fillna(X_loan_train['Months since last delinquent'].mean(), inplace=True)"
   ]
  },
  {
   "cell_type": "code",
   "execution_count": 30,
   "metadata": {
    "scrolled": true
   },
   "outputs": [
    {
     "data": {
      "text/plain": [
       "0"
      ]
     },
     "execution_count": 30,
     "metadata": {},
     "output_type": "execute_result"
    }
   ],
   "source": [
    "X_loan_train['Months since last delinquent'].isnull().sum()"
   ]
  },
  {
   "cell_type": "markdown",
   "metadata": {},
   "source": [
    "### Clean: Annual Income"
   ]
  },
  {
   "cell_type": "code",
   "execution_count": 31,
   "metadata": {},
   "outputs": [
    {
     "data": {
      "text/plain": [
       "NaN         44016\n",
       "60828.0        22\n",
       "60684.0        21\n",
       "50255.0        21\n",
       "61044.0        20\n",
       "51235.0        20\n",
       "60348.0        19\n",
       "61488.0        19\n",
       "59436.0        19\n",
       "60150.0        19\n",
       "49175.0        19\n",
       "60072.0        19\n",
       "46017.0        19\n",
       "60522.0        18\n",
       "60804.0        18\n",
       "50505.0        18\n",
       "45734.0        18\n",
       "51000.0        18\n",
       "71071.0        18\n",
       "50825.0        18\n",
       "60024.0        18\n",
       "48955.0        18\n",
       "61014.0        18\n",
       "61134.0        18\n",
       "61098.0        18\n",
       "59346.0        18\n",
       "58872.0        18\n",
       "60744.0        18\n",
       "59202.0        17\n",
       "61188.0        17\n",
       "            ...  \n",
       "101036.0        1\n",
       "224312.0        1\n",
       "108019.0        1\n",
       "89153.0         1\n",
       "155017.0        1\n",
       "192090.0        1\n",
       "24173.0         1\n",
       "31355.0         1\n",
       "78767.0         1\n",
       "77502.0         1\n",
       "22290.0         1\n",
       "104177.0        1\n",
       "118413.0        1\n",
       "77505.0         1\n",
       "60963.0         1\n",
       "713262.0        1\n",
       "243850.0        1\n",
       "133698.0        1\n",
       "36859.0         1\n",
       "106395.0        1\n",
       "60962.0         1\n",
       "19556.0         1\n",
       "55141.0         1\n",
       "52307.0         1\n",
       "77515.0         1\n",
       "106392.0        1\n",
       "25951.0         1\n",
       "110958.0        1\n",
       "26738.0         1\n",
       "15374.0         1\n",
       "Name: Annual Income, Length: 52362, dtype: int64"
      ]
     },
     "execution_count": 31,
     "metadata": {},
     "output_type": "execute_result"
    }
   ],
   "source": [
    "X_loan_train['Annual Income'].value_counts(dropna=False)"
   ]
  },
  {
   "cell_type": "code",
   "execution_count": 32,
   "metadata": {},
   "outputs": [
    {
     "data": {
      "text/plain": [
       "count    1.285440e+05\n",
       "mean     7.335127e+04\n",
       "std      6.029228e+04\n",
       "min      4.033000e+03\n",
       "25%      4.498550e+04\n",
       "50%      6.286500e+04\n",
       "75%      8.843400e+04\n",
       "max      8.713547e+06\n",
       "Name: Annual Income, dtype: float64"
      ]
     },
     "execution_count": 32,
     "metadata": {},
     "output_type": "execute_result"
    }
   ],
   "source": [
    "X_loan_train['Annual Income'].describe()"
   ]
  },
  {
   "cell_type": "code",
   "execution_count": 33,
   "metadata": {},
   "outputs": [],
   "source": [
    "X_loan_train['Annual Income'].fillna(X_loan_train['Annual Income'].mean(), inplace=True)"
   ]
  },
  {
   "cell_type": "code",
   "execution_count": 34,
   "metadata": {},
   "outputs": [
    {
     "data": {
      "text/plain": [
       "0"
      ]
     },
     "execution_count": 34,
     "metadata": {},
     "output_type": "execute_result"
    }
   ],
   "source": [
    "X_loan_train['Annual Income'].isnull().sum()"
   ]
  },
  {
   "cell_type": "markdown",
   "metadata": {},
   "source": [
    "### Clean: Credit Score"
   ]
  },
  {
   "cell_type": "code",
   "execution_count": 35,
   "metadata": {},
   "outputs": [
    {
     "data": {
      "text/plain": [
       "count    128544.000000\n",
       "mean       1298.960675\n",
       "std        1828.366897\n",
       "min         585.000000\n",
       "25%         718.000000\n",
       "50%         736.000000\n",
       "75%         745.000000\n",
       "max        7510.000000\n",
       "Name: Credit Score, dtype: float64"
      ]
     },
     "execution_count": 35,
     "metadata": {},
     "output_type": "execute_result"
    }
   ],
   "source": [
    "X_loan_train['Credit Score'].describe()"
   ]
  },
  {
   "cell_type": "code",
   "execution_count": 36,
   "metadata": {},
   "outputs": [
    {
     "data": {
      "text/plain": [
       "NaN       44016\n",
       "747.0      4207\n",
       "746.0      3991\n",
       "741.0      3866\n",
       "740.0      3856\n",
       "742.0      3685\n",
       "745.0      3671\n",
       "743.0      3609\n",
       "748.0      3578\n",
       "739.0      3532\n",
       "744.0      3363\n",
       "738.0      3182\n",
       "737.0      3161\n",
       "750.0      2984\n",
       "736.0      2471\n",
       "735.0      2409\n",
       "734.0      2402\n",
       "732.0      2303\n",
       "733.0      2303\n",
       "731.0      2192\n",
       "729.0      2036\n",
       "749.0      2011\n",
       "730.0      2009\n",
       "728.0      1889\n",
       "751.0      1848\n",
       "726.0      1705\n",
       "727.0      1664\n",
       "725.0      1628\n",
       "724.0      1536\n",
       "721.0      1503\n",
       "          ...  \n",
       "585.0         7\n",
       "6160.0        7\n",
       "5890.0        7\n",
       "589.0         6\n",
       "6010.0        6\n",
       "6020.0        6\n",
       "6150.0        6\n",
       "6090.0        5\n",
       "5970.0        5\n",
       "6060.0        4\n",
       "5920.0        4\n",
       "6040.0        4\n",
       "5950.0        4\n",
       "5960.0        3\n",
       "6070.0        3\n",
       "5880.0        3\n",
       "6000.0        3\n",
       "6050.0        3\n",
       "5990.0        3\n",
       "5850.0        3\n",
       "6120.0        3\n",
       "5940.0        2\n",
       "6030.0        2\n",
       "5910.0        2\n",
       "5900.0        2\n",
       "5870.0        2\n",
       "6140.0        2\n",
       "5980.0        1\n",
       "5930.0        1\n",
       "5860.0        1\n",
       "Name: Credit Score, Length: 335, dtype: int64"
      ]
     },
     "execution_count": 36,
     "metadata": {},
     "output_type": "execute_result"
    }
   ],
   "source": [
    "#of these stats, we want to know how includenced our mean etc is by null values\n",
    "#we can see that 44k fields are empty\n",
    "X_loan_train['Credit Score'].value_counts(dropna=False)"
   ]
  },
  {
   "cell_type": "markdown",
   "metadata": {},
   "source": [
    "We see some weird patterns here. Credit scores by nature are 3 digits. We see there is a subset of 4 digits. We need to split the data and use the lambda function to divide any number greater than 999 (a random number that no credit score can possibly be that also seperates 3 digit from 4 digit numbers) by 10. The null values in our dataframe may impact our caluculation so we make all null values 0."
   ]
  },
  {
   "cell_type": "code",
   "execution_count": 37,
   "metadata": {},
   "outputs": [],
   "source": [
    "X_loan_train['Credit Score'].fillna(0, inplace=True)"
   ]
  },
  {
   "cell_type": "code",
   "execution_count": 38,
   "metadata": {},
   "outputs": [
    {
     "name": "stderr",
     "output_type": "stream",
     "text": [
      "/Users/alisonbunce/anaconda3/lib/python3.7/site-packages/ipykernel_launcher.py:2: SettingWithCopyWarning: \n",
      "A value is trying to be set on a copy of a slice from a DataFrame.\n",
      "Try using .loc[row_indexer,col_indexer] = value instead\n",
      "\n",
      "See the caveats in the documentation: http://pandas.pydata.org/pandas-docs/stable/indexing.html#indexing-view-versus-copy\n",
      "  \n"
     ]
    }
   ],
   "source": [
    "#anythign that was greater than 999, we divided by 10\n",
    "X_loan_train['Credit Score'] =  X_loan_train['Credit Score'].apply(lambda x : x / 10  if x > 999 else x)"
   ]
  },
  {
   "cell_type": "code",
   "execution_count": 39,
   "metadata": {},
   "outputs": [
    {
     "data": {
      "text/plain": [
       "751.0"
      ]
     },
     "execution_count": 39,
     "metadata": {},
     "output_type": "execute_result"
    }
   ],
   "source": [
    "#this confirms that we successfully completed the lambda function b/c our max # is 751, not in the 1000s\n",
    "X_loan_train['Credit Score'].max()"
   ]
  },
  {
   "cell_type": "code",
   "execution_count": 40,
   "metadata": {},
   "outputs": [
    {
     "data": {
      "text/plain": [
       "count    172560.000000\n",
       "mean        538.979538\n",
       "std         316.210216\n",
       "min           0.000000\n",
       "25%           0.000000\n",
       "50%         721.000000\n",
       "75%         739.000000\n",
       "max         751.000000\n",
       "Name: Credit Score, dtype: float64"
      ]
     },
     "execution_count": 40,
     "metadata": {},
     "output_type": "execute_result"
    }
   ],
   "source": [
    "X_loan_train['Credit Score'].describe()"
   ]
  },
  {
   "cell_type": "code",
   "execution_count": 41,
   "metadata": {},
   "outputs": [
    {
     "data": {
      "text/plain": [
       "721.0"
      ]
     },
     "execution_count": 41,
     "metadata": {},
     "output_type": "execute_result"
    }
   ],
   "source": [
    "#since mean and median are pretty far apart, i will elect to use median\n",
    "X_loan_train['Credit Score'].median()"
   ]
  },
  {
   "cell_type": "code",
   "execution_count": 42,
   "metadata": {},
   "outputs": [
    {
     "name": "stderr",
     "output_type": "stream",
     "text": [
      "/Users/alisonbunce/anaconda3/lib/python3.7/site-packages/pandas/core/generic.py:6586: SettingWithCopyWarning: \n",
      "A value is trying to be set on a copy of a slice from a DataFrame\n",
      "\n",
      "See the caveats in the documentation: http://pandas.pydata.org/pandas-docs/stable/indexing.html#indexing-view-versus-copy\n",
      "  self._update_inplace(new_data)\n"
     ]
    }
   ],
   "source": [
    "X_loan_train['Credit Score'].replace(0.0, X_loan_train['Credit Score'].median(), inplace=True)"
   ]
  },
  {
   "cell_type": "code",
   "execution_count": 43,
   "metadata": {},
   "outputs": [
    {
     "data": {
      "text/plain": [
       "count    172560.000000\n",
       "mean        722.889691\n",
       "std          22.737231\n",
       "min         585.000000\n",
       "25%         721.000000\n",
       "50%         721.000000\n",
       "75%         739.000000\n",
       "max         751.000000\n",
       "Name: Credit Score, dtype: float64"
      ]
     },
     "execution_count": 43,
     "metadata": {},
     "output_type": "execute_result"
    }
   ],
   "source": [
    "X_loan_train['Credit Score'].describe()"
   ]
  },
  {
   "cell_type": "code",
   "execution_count": 44,
   "metadata": {},
   "outputs": [
    {
     "data": {
      "text/plain": [
       "0"
      ]
     },
     "execution_count": 44,
     "metadata": {},
     "output_type": "execute_result"
    }
   ],
   "source": [
    "X_loan_train['Credit Score'].isnull().sum()"
   ]
  },
  {
   "cell_type": "markdown",
   "metadata": {},
   "source": [
    "this confirms that we successfully filled in all 0 values with the median"
   ]
  },
  {
   "cell_type": "markdown",
   "metadata": {},
   "source": [
    "### Clean: Years in Current Job"
   ]
  },
  {
   "cell_type": "code",
   "execution_count": 45,
   "metadata": {},
   "outputs": [
    {
     "data": {
      "text/plain": [
       "7202"
      ]
     },
     "execution_count": 45,
     "metadata": {},
     "output_type": "execute_result"
    }
   ],
   "source": [
    "#confirm the amount of null values we have\n",
    "X_loan_train['Years in current job'].isnull().sum()"
   ]
  },
  {
   "cell_type": "code",
   "execution_count": 46,
   "metadata": {},
   "outputs": [
    {
     "data": {
      "text/plain": [
       "array(['10+ years', '1 year', '2 years', '7 years', '< 1 year', '5 years',\n",
       "       nan, '4 years', '8 years', '3 years', '9 years', '6 years'],\n",
       "      dtype=object)"
      ]
     },
     "execution_count": 46,
     "metadata": {},
     "output_type": "execute_result"
    }
   ],
   "source": [
    "X_loan_train['Years in current job'].unique()"
   ]
  },
  {
   "cell_type": "code",
   "execution_count": 47,
   "metadata": {},
   "outputs": [],
   "source": [
    "X_loan_train['Years in current job'].replace(['10+ years', '5 years', '1 year', np.nan, '2 years', '< 1 year','7 years', '8 years', '3 years', '9 years', '6 years', '4 years'], [10.5, 5.0, 1.0, 0.0, 2.0, 0.5, 7.0, 8.0, 3.0, 9.0, 6.0, 4.0], inplace=True)"
   ]
  },
  {
   "cell_type": "code",
   "execution_count": 48,
   "metadata": {},
   "outputs": [
    {
     "data": {
      "text/plain": [
       "array([10.5,  1. ,  2. ,  7. ,  0.5,  5. ,  0. ,  4. ,  8. ,  3. ,  9. ,\n",
       "        6. ])"
      ]
     },
     "execution_count": 48,
     "metadata": {},
     "output_type": "execute_result"
    }
   ],
   "source": [
    "#lets check to make sure our strings were replaced with floats\n",
    "X_loan_train['Years in current job'].unique()"
   ]
  },
  {
   "cell_type": "code",
   "execution_count": 49,
   "metadata": {},
   "outputs": [
    {
     "data": {
      "text/plain": [
       "0"
      ]
     },
     "execution_count": 49,
     "metadata": {},
     "output_type": "execute_result"
    }
   ],
   "source": [
    "#double checked that we got rid of all null values\n",
    "X_loan_train['Years in current job'].isnull().sum()"
   ]
  },
  {
   "cell_type": "markdown",
   "metadata": {},
   "source": [
    "everything looks good so let's double check that we cleared all the null values"
   ]
  },
  {
   "cell_type": "code",
   "execution_count": 50,
   "metadata": {},
   "outputs": [
    {
     "name": "stdout",
     "output_type": "stream",
     "text": [
      "<class 'pandas.core.frame.DataFrame'>\n",
      "Int64Index: 172560 entries, 88212 to 19027\n",
      "Data columns (total 18 columns):\n",
      "Loan ID                         172560 non-null object\n",
      "Customer ID                     172560 non-null object\n",
      "Current Loan Amount             172560 non-null int64\n",
      "Term                            172560 non-null object\n",
      "Credit Score                    172560 non-null float64\n",
      "Years in current job            172560 non-null float64\n",
      "Home Ownership                  172560 non-null object\n",
      "Annual Income                   172560 non-null float64\n",
      "Purpose                         172560 non-null object\n",
      "Monthly Debt                    172560 non-null object\n",
      "Years of Credit History         172560 non-null float64\n",
      "Months since last delinquent    172560 non-null float64\n",
      "Number of Open Accounts         172560 non-null int64\n",
      "Number of Credit Problems       172560 non-null int64\n",
      "Current Credit Balance          172560 non-null int64\n",
      "Maximum Open Credit             172560 non-null object\n",
      "Bankruptcies                    172560 non-null float64\n",
      "Tax Liens                       172560 non-null float64\n",
      "dtypes: float64(7), int64(4), object(7)\n",
      "memory usage: 25.0+ MB\n"
     ]
    }
   ],
   "source": [
    "#we have to convert all object into numeric\n",
    "X_loan_train.info()"
   ]
  },
  {
   "cell_type": "markdown",
   "metadata": {},
   "source": [
    "Let's decide which columns we want to make dummies for, and which columns we want to convert to int/float."
   ]
  },
  {
   "cell_type": "markdown",
   "metadata": {},
   "source": [
    "1. _identify_ which columns are object:\n",
    "    (loan and customer id don't count)\n",
    "    a. Term\n",
    "    b. Home Ownership\n",
    "    c. Purpose\n",
    "    d. Monthly Debt\n",
    "    e. Maximum Open Credit\n",
    "   \n",
    "2. which columns should we classified as an _integar or a float_?\n",
    "    a. Monthly Debt: how much you owe on a monthly basis is a numerical value\n",
    "    b: Maximum Open Credit: is best classified as a number\n",
    "    \n",
    "3. _dummies:_ (as long as we assign values we can use any many unique values as we want)\n",
    "    a. Term: because this is binary entry. you can either be in a short term or long term.\n",
    "    b. Home Ownership: you can either be a renter, home owner or morgage. \n",
    "    c. Purpose: equal chance user needs loan for student debt or house payment or car payment, etc\n",
    "    \n",
    "4. we want to convert the numeric values first because _dummies we create just before we start modeling_"
   ]
  },
  {
   "cell_type": "markdown",
   "metadata": {},
   "source": [
    "### Convert Monthly Loan: Object to Numeric"
   ]
  },
  {
   "cell_type": "code",
   "execution_count": 51,
   "metadata": {
    "scrolled": true
   },
   "outputs": [],
   "source": [
    "#convert this columns values into numeric values\n",
    "#in coerce if  there is an error it will convert the value into a null value\n",
    "# if you have an '=' sign you cannot use inplace\n",
    "#X_loan_train['Monthly Debt'] = pd.to_numeric(X_loan_train['Monthly Debt'], errors='coerce')"
   ]
  },
  {
   "cell_type": "code",
   "execution_count": 52,
   "metadata": {
    "scrolled": true
   },
   "outputs": [
    {
     "name": "stderr",
     "output_type": "stream",
     "text": [
      "/Users/alisonbunce/anaconda3/lib/python3.7/site-packages/ipykernel_launcher.py:1: SettingWithCopyWarning: \n",
      "A value is trying to be set on a copy of a slice from a DataFrame.\n",
      "Try using .loc[row_indexer,col_indexer] = value instead\n",
      "\n",
      "See the caveats in the documentation: http://pandas.pydata.org/pandas-docs/stable/indexing.html#indexing-view-versus-copy\n",
      "  \"\"\"Entry point for launching an IPython kernel.\n"
     ]
    }
   ],
   "source": [
    "X_loan_train['Monthly Debt'] = X_loan_train['Monthly Debt'].replace( '[\\$, ]','', regex=True ).astype(float) "
   ]
  },
  {
   "cell_type": "markdown",
   "metadata": {},
   "source": [
    "Had to rework this line of code several times when looking at my .info, because it showed that I had 0 rows. What happened is that all the monthly fields were not consistantly inputted. My first thought was oh, let me standardize the data by getting rid of the $, because it seems it's infront of some numbers and not others. After applying info, my rows were still zero'd out, so this incosistency went beyond just dollar signs. Then I checked for a comma and a space. perhaps the data got loaded with an additional space or was entered with a , as opposed to a. . That still gave me a 0 row count. So the third time, I tried removing the $ and converting the object into a float data type. "
   ]
  },
  {
   "cell_type": "code",
   "execution_count": 53,
   "metadata": {},
   "outputs": [
    {
     "data": {
      "text/plain": [
       "88212      214.56\n",
       "48977      422.71\n",
       "97238      771.83\n",
       "212487     529.08\n",
       "144797    2305.58\n",
       "Name: Monthly Debt, dtype: float64"
      ]
     },
     "execution_count": 53,
     "metadata": {},
     "output_type": "execute_result"
    }
   ],
   "source": [
    "#check the data to see if worked\n",
    "X_loan_train['Monthly Debt'].head()"
   ]
  },
  {
   "cell_type": "markdown",
   "metadata": {},
   "source": [
    "### Convert Maximum Open Credit: Object to Numeric"
   ]
  },
  {
   "cell_type": "code",
   "execution_count": 113,
   "metadata": {},
   "outputs": [
    {
     "data": {
      "text/plain": [
       "array([ 60977.,  49214., 168303., ...,  48204.,  36590.,  77094.])"
      ]
     },
     "execution_count": 113,
     "metadata": {},
     "output_type": "execute_result"
    }
   ],
   "source": [
    "X_loan_train['Maximum Open Credit'].unique()"
   ]
  },
  {
   "cell_type": "code",
   "execution_count": 114,
   "metadata": {},
   "outputs": [
    {
     "name": "stderr",
     "output_type": "stream",
     "text": [
      "/Users/alisonbunce/anaconda3/lib/python3.7/site-packages/pandas/core/generic.py:6130: SettingWithCopyWarning: \n",
      "A value is trying to be set on a copy of a slice from a DataFrame\n",
      "\n",
      "See the caveats in the documentation: http://pandas.pydata.org/pandas-docs/stable/indexing.html#indexing-view-versus-copy\n",
      "  self._update_inplace(new_data)\n"
     ]
    }
   ],
   "source": [
    "X_loan_train['Maximum Open Credit'].fillna(0, inplace=True)"
   ]
  },
  {
   "cell_type": "markdown",
   "metadata": {},
   "source": [
    "since output is an array that consists of strings, we can move forward and convert all values into numeric values."
   ]
  },
  {
   "cell_type": "code",
   "execution_count": 115,
   "metadata": {},
   "outputs": [
    {
     "name": "stderr",
     "output_type": "stream",
     "text": [
      "/Users/alisonbunce/anaconda3/lib/python3.7/site-packages/ipykernel_launcher.py:1: SettingWithCopyWarning: \n",
      "A value is trying to be set on a copy of a slice from a DataFrame.\n",
      "Try using .loc[row_indexer,col_indexer] = value instead\n",
      "\n",
      "See the caveats in the documentation: http://pandas.pydata.org/pandas-docs/stable/indexing.html#indexing-view-versus-copy\n",
      "  \"\"\"Entry point for launching an IPython kernel.\n"
     ]
    }
   ],
   "source": [
    "X_loan_train['Maximum Open Credit'] = pd.to_numeric(X_loan_train['Maximum Open Credit'], errors='coerce')"
   ]
  },
  {
   "cell_type": "code",
   "execution_count": 116,
   "metadata": {},
   "outputs": [
    {
     "data": {
      "text/plain": [
       "0"
      ]
     },
     "execution_count": 116,
     "metadata": {},
     "output_type": "execute_result"
    }
   ],
   "source": [
    "X_loan_train['Maximum Open Credit'].isnull().sum()"
   ]
  },
  {
   "cell_type": "code",
   "execution_count": 58,
   "metadata": {},
   "outputs": [
    {
     "name": "stdout",
     "output_type": "stream",
     "text": [
      "<class 'pandas.core.frame.DataFrame'>\n",
      "Int64Index: 172560 entries, 88212 to 19027\n",
      "Data columns (total 18 columns):\n",
      "Loan ID                         172560 non-null object\n",
      "Customer ID                     172560 non-null object\n",
      "Current Loan Amount             172560 non-null int64\n",
      "Term                            172560 non-null object\n",
      "Credit Score                    172560 non-null float64\n",
      "Years in current job            172560 non-null float64\n",
      "Home Ownership                  172560 non-null object\n",
      "Annual Income                   172560 non-null float64\n",
      "Purpose                         172560 non-null object\n",
      "Monthly Debt                    172560 non-null float64\n",
      "Years of Credit History         172560 non-null float64\n",
      "Months since last delinquent    172560 non-null float64\n",
      "Number of Open Accounts         172560 non-null int64\n",
      "Number of Credit Problems       172560 non-null int64\n",
      "Current Credit Balance          172560 non-null int64\n",
      "Maximum Open Credit             172558 non-null float64\n",
      "Bankruptcies                    172560 non-null float64\n",
      "Tax Liens                       172560 non-null float64\n",
      "dtypes: float64(9), int64(4), object(5)\n",
      "memory usage: 25.0+ MB\n"
     ]
    }
   ],
   "source": [
    "X_loan_train.info()"
   ]
  },
  {
   "cell_type": "markdown",
   "metadata": {},
   "source": [
    "there's some issue with the values within Monthly Debt because it erased everything, there could be some value fields . in maximum open credit, there are two null values that we have to fix. "
   ]
  },
  {
   "cell_type": "code",
   "execution_count": 59,
   "metadata": {},
   "outputs": [
    {
     "data": {
      "text/plain": [
       "count    1.725580e+05\n",
       "mean     3.630438e+04\n",
       "std      5.019532e+05\n",
       "min      0.000000e+00\n",
       "25%      1.297525e+04\n",
       "50%      2.207800e+04\n",
       "75%      3.679500e+04\n",
       "max      1.516913e+08\n",
       "Name: Maximum Open Credit, dtype: float64"
      ]
     },
     "execution_count": 59,
     "metadata": {},
     "output_type": "execute_result"
    }
   ],
   "source": [
    "X_loan_train['Maximum Open Credit'].describe()"
   ]
  },
  {
   "cell_type": "code",
   "execution_count": 117,
   "metadata": {},
   "outputs": [
    {
     "data": {
      "text/plain": [
       "0"
      ]
     },
     "execution_count": 117,
     "metadata": {},
     "output_type": "execute_result"
    }
   ],
   "source": [
    "X_loan_train['Maximum Open Credit'].isnull().sum()"
   ]
  },
  {
   "cell_type": "markdown",
   "metadata": {},
   "source": [
    "## Clean: X_Loan_test "
   ]
  },
  {
   "cell_type": "markdown",
   "metadata": {},
   "source": [
    "We have to do the same thing for X_Test as we did for X_train"
   ]
  },
  {
   "cell_type": "code",
   "execution_count": 61,
   "metadata": {},
   "outputs": [
    {
     "data": {
      "text/plain": [
       "Loan ID                             0\n",
       "Customer ID                         0\n",
       "Current Loan Amount                 0\n",
       "Term                                0\n",
       "Credit Score                    10992\n",
       "Years in current job             1788\n",
       "Home Ownership                      0\n",
       "Annual Income                   10992\n",
       "Purpose                             0\n",
       "Monthly Debt                        0\n",
       "Years of Credit History             0\n",
       "Months since last delinquent    23692\n",
       "Number of Open Accounts             0\n",
       "Number of Credit Problems           0\n",
       "Current Credit Balance              0\n",
       "Maximum Open Credit                 0\n",
       "Bankruptcies                       82\n",
       "Tax Liens                           4\n",
       "dtype: int64"
      ]
     },
     "execution_count": 61,
     "metadata": {},
     "output_type": "execute_result"
    }
   ],
   "source": [
    "#show us a summary off all the empty fields by column name\n",
    "X_loan_test.isnull().sum()"
   ]
  },
  {
   "cell_type": "markdown",
   "metadata": {},
   "source": [
    "### Clean (Test): Tax Liens"
   ]
  },
  {
   "cell_type": "code",
   "execution_count": 62,
   "metadata": {},
   "outputs": [
    {
     "data": {
      "text/plain": [
       "count    43136.000000\n",
       "mean         0.027124\n",
       "std          0.247593\n",
       "min          0.000000\n",
       "25%          0.000000\n",
       "50%          0.000000\n",
       "75%          0.000000\n",
       "max          9.000000\n",
       "Name: Tax Liens, dtype: float64"
      ]
     },
     "execution_count": 62,
     "metadata": {},
     "output_type": "execute_result"
    }
   ],
   "source": [
    "#show us the mean and the median\n",
    "X_loan_test['Tax Liens'].describe()"
   ]
  },
  {
   "cell_type": "code",
   "execution_count": 63,
   "metadata": {},
   "outputs": [
    {
     "data": {
      "text/plain": [
       "0.0    42380\n",
       "1.0      522\n",
       "2.0      142\n",
       "3.0       44\n",
       "4.0       26\n",
       "5.0       11\n",
       "6.0        8\n",
       "NaN        4\n",
       "9.0        2\n",
       "7.0        1\n",
       "Name: Tax Liens, dtype: int64"
      ]
     },
     "execution_count": 63,
     "metadata": {},
     "output_type": "execute_result"
    }
   ],
   "source": [
    "#show us our unique values, tells us all the diff values\n",
    "#count the nulls also\n",
    "X_loan_test['Tax Liens'].value_counts(dropna=False)"
   ]
  },
  {
   "cell_type": "code",
   "execution_count": 64,
   "metadata": {},
   "outputs": [],
   "source": [
    "#fill all null values with the mean\n",
    "X_loan_test['Tax Liens'].fillna(X_loan_test['Tax Liens'].mean(), inplace=True)"
   ]
  },
  {
   "cell_type": "code",
   "execution_count": 65,
   "metadata": {},
   "outputs": [
    {
     "data": {
      "text/plain": [
       "0"
      ]
     },
     "execution_count": 65,
     "metadata": {},
     "output_type": "execute_result"
    }
   ],
   "source": [
    "#double check that there are no more null values for this column\n",
    "X_loan_test['Tax Liens'].isnull().sum()"
   ]
  },
  {
   "cell_type": "markdown",
   "metadata": {},
   "source": [
    "### Clean(Test): Bankruptcies"
   ]
  },
  {
   "cell_type": "code",
   "execution_count": 66,
   "metadata": {},
   "outputs": [
    {
     "data": {
      "text/plain": [
       "count    43058.000000\n",
       "mean         0.112430\n",
       "std          0.337922\n",
       "min          0.000000\n",
       "25%          0.000000\n",
       "50%          0.000000\n",
       "75%          0.000000\n",
       "max          5.000000\n",
       "Name: Bankruptcies, dtype: float64"
      ]
     },
     "execution_count": 66,
     "metadata": {},
     "output_type": "execute_result"
    }
   ],
   "source": [
    "#observe mean and median, we also look at our min and max to see how mean/med is affected\n",
    "X_loan_test.Bankruptcies.describe()"
   ]
  },
  {
   "cell_type": "code",
   "execution_count": 67,
   "metadata": {},
   "outputs": [
    {
     "data": {
      "text/plain": [
       "0.0    38470\n",
       "1.0     4382\n",
       "2.0      168\n",
       "NaN       82\n",
       "3.0       30\n",
       "4.0        7\n",
       "5.0        1\n",
       "Name: Bankruptcies, dtype: int64"
      ]
     },
     "execution_count": 67,
     "metadata": {},
     "output_type": "execute_result"
    }
   ],
   "source": [
    "X_loan_test.Bankruptcies.value_counts(dropna=False)"
   ]
  },
  {
   "cell_type": "code",
   "execution_count": 68,
   "metadata": {},
   "outputs": [
    {
     "data": {
      "text/plain": [
       "82"
      ]
     },
     "execution_count": 68,
     "metadata": {},
     "output_type": "execute_result"
    }
   ],
   "source": [
    "X_loan_test.Bankruptcies.isnull().sum()"
   ]
  },
  {
   "cell_type": "code",
   "execution_count": 69,
   "metadata": {},
   "outputs": [],
   "source": [
    "X_loan_test.Bankruptcies.fillna(X_loan_test.Bankruptcies.mean(), inplace=True)"
   ]
  },
  {
   "cell_type": "code",
   "execution_count": 70,
   "metadata": {},
   "outputs": [
    {
     "data": {
      "text/plain": [
       "0"
      ]
     },
     "execution_count": 70,
     "metadata": {},
     "output_type": "execute_result"
    }
   ],
   "source": [
    "X_loan_test.Bankruptcies.isnull().sum()"
   ]
  },
  {
   "cell_type": "markdown",
   "metadata": {},
   "source": [
    "### Clean (Test) : Months since last delinquent"
   ]
  },
  {
   "cell_type": "code",
   "execution_count": 71,
   "metadata": {},
   "outputs": [
    {
     "data": {
      "text/plain": [
       "count    19448.000000\n",
       "mean        34.830985\n",
       "std         21.763171\n",
       "min          0.000000\n",
       "25%         16.000000\n",
       "50%         32.000000\n",
       "75%         51.000000\n",
       "max        139.000000\n",
       "Name: Months since last delinquent, dtype: float64"
      ]
     },
     "execution_count": 71,
     "metadata": {},
     "output_type": "execute_result"
    }
   ],
   "source": [
    "X_loan_test['Months since last delinquent'].describe()"
   ]
  },
  {
   "cell_type": "code",
   "execution_count": 72,
   "metadata": {},
   "outputs": [
    {
     "data": {
      "text/plain": [
       "NaN      23692\n",
       "15.0       407\n",
       "12.0       386\n",
       "8.0        380\n",
       "7.0        364\n",
       "16.0       364\n",
       "13.0       358\n",
       "14.0       345\n",
       "17.0       341\n",
       "9.0        340\n",
       "10.0       340\n",
       "23.0       336\n",
       "25.0       328\n",
       "22.0       323\n",
       "19.0       321\n",
       "32.0       316\n",
       "21.0       313\n",
       "33.0       312\n",
       "20.0       310\n",
       "6.0        307\n",
       "34.0       306\n",
       "18.0       304\n",
       "28.0       302\n",
       "26.0       301\n",
       "30.0       299\n",
       "29.0       291\n",
       "38.0       287\n",
       "27.0       285\n",
       "11.0       285\n",
       "31.0       285\n",
       "         ...  \n",
       "67.0       152\n",
       "75.0       147\n",
       "70.0       146\n",
       "74.0       136\n",
       "69.0       136\n",
       "77.0       134\n",
       "79.0       128\n",
       "80.0       125\n",
       "76.0       123\n",
       "1.0        119\n",
       "81.0       115\n",
       "78.0       113\n",
       "0.0         90\n",
       "82.0        42\n",
       "83.0         7\n",
       "88.0         2\n",
       "95.0         2\n",
       "92.0         2\n",
       "131.0        2\n",
       "106.0        1\n",
       "90.0         1\n",
       "94.0         1\n",
       "96.0         1\n",
       "84.0         1\n",
       "86.0         1\n",
       "139.0        1\n",
       "102.0        1\n",
       "89.0         1\n",
       "85.0         1\n",
       "130.0        1\n",
       "Name: Months since last delinquent, Length: 100, dtype: int64"
      ]
     },
     "execution_count": 72,
     "metadata": {},
     "output_type": "execute_result"
    }
   ],
   "source": [
    "X_loan_test['Months since last delinquent'].value_counts(dropna=False)"
   ]
  },
  {
   "cell_type": "code",
   "execution_count": 73,
   "metadata": {},
   "outputs": [],
   "source": [
    "X_loan_test['Months since last delinquent'].fillna(X_loan_test['Months since last delinquent'].mean(), inplace=True)"
   ]
  },
  {
   "cell_type": "code",
   "execution_count": 74,
   "metadata": {},
   "outputs": [
    {
     "data": {
      "text/plain": [
       "0"
      ]
     },
     "execution_count": 74,
     "metadata": {},
     "output_type": "execute_result"
    }
   ],
   "source": [
    "X_loan_test['Months since last delinquent'].isnull().sum()"
   ]
  },
  {
   "cell_type": "markdown",
   "metadata": {},
   "source": [
    "### Clean (Test) : Annual Income"
   ]
  },
  {
   "cell_type": "code",
   "execution_count": 75,
   "metadata": {},
   "outputs": [
    {
     "data": {
      "text/plain": [
       "NaN         10992\n",
       "59346.0         8\n",
       "50170.0         8\n",
       "49485.0         8\n",
       "39996.0         7\n",
       "50455.0         7\n",
       "49585.0         7\n",
       "61188.0         7\n",
       "50720.0         7\n",
       "39664.0         7\n",
       "39228.0         7\n",
       "49630.0         7\n",
       "58584.0         7\n",
       "61500.0         7\n",
       "69496.0         7\n",
       "51130.0         7\n",
       "35088.0         7\n",
       "65650.0         7\n",
       "60834.0         7\n",
       "50490.0         7\n",
       "51190.0         7\n",
       "60720.0         7\n",
       "49990.0         7\n",
       "63850.0         7\n",
       "40676.0         6\n",
       "60084.0         6\n",
       "49995.0         6\n",
       "58722.0         6\n",
       "63460.0         6\n",
       "50955.0         6\n",
       "            ...  \n",
       "34808.0         1\n",
       "88834.0         1\n",
       "25249.0         1\n",
       "108434.0        1\n",
       "43002.0         1\n",
       "70602.0         1\n",
       "81808.0         1\n",
       "42227.0         1\n",
       "139236.0        1\n",
       "129795.0        1\n",
       "49310.0         1\n",
       "42674.0         1\n",
       "89970.0         1\n",
       "278465.0        1\n",
       "60304.0         1\n",
       "155605.0        1\n",
       "278462.0        1\n",
       "24995.0         1\n",
       "53752.0         1\n",
       "33919.0         1\n",
       "52742.0         1\n",
       "56692.0         1\n",
       "67844.0         1\n",
       "55286.0         1\n",
       "56707.0         1\n",
       "51397.0         1\n",
       "69019.0         1\n",
       "85995.0         1\n",
       "80647.0         1\n",
       "47132.0         1\n",
       "Name: Annual Income, Length: 22376, dtype: int64"
      ]
     },
     "execution_count": 75,
     "metadata": {},
     "output_type": "execute_result"
    }
   ],
   "source": [
    "X_loan_test['Annual Income'].value_counts(dropna=False)"
   ]
  },
  {
   "cell_type": "code",
   "execution_count": 76,
   "metadata": {},
   "outputs": [
    {
     "data": {
      "text/plain": [
       "count    3.214800e+04\n",
       "mean     7.317753e+04\n",
       "std      4.896951e+04\n",
       "min      4.699000e+03\n",
       "25%      4.495675e+04\n",
       "50%      6.262100e+04\n",
       "75%      8.835300e+04\n",
       "max      1.919760e+06\n",
       "Name: Annual Income, dtype: float64"
      ]
     },
     "execution_count": 76,
     "metadata": {},
     "output_type": "execute_result"
    }
   ],
   "source": [
    "X_loan_test['Annual Income'].describe()"
   ]
  },
  {
   "cell_type": "code",
   "execution_count": 77,
   "metadata": {},
   "outputs": [],
   "source": [
    "X_loan_test['Annual Income'].fillna(X_loan_test['Annual Income'].mean(), inplace=True)"
   ]
  },
  {
   "cell_type": "code",
   "execution_count": 78,
   "metadata": {},
   "outputs": [
    {
     "data": {
      "text/plain": [
       "0"
      ]
     },
     "execution_count": 78,
     "metadata": {},
     "output_type": "execute_result"
    }
   ],
   "source": [
    "X_loan_train['Annual Income'].isnull().sum()"
   ]
  },
  {
   "cell_type": "markdown",
   "metadata": {},
   "source": [
    "### Clean (Test): Credit Score"
   ]
  },
  {
   "cell_type": "code",
   "execution_count": 79,
   "metadata": {},
   "outputs": [
    {
     "data": {
      "text/plain": [
       "count    32148.000000\n",
       "mean      1293.362573\n",
       "std       1819.325265\n",
       "min        585.000000\n",
       "25%        718.000000\n",
       "50%        736.000000\n",
       "75%        745.000000\n",
       "max       7510.000000\n",
       "Name: Credit Score, dtype: float64"
      ]
     },
     "execution_count": 79,
     "metadata": {},
     "output_type": "execute_result"
    }
   ],
   "source": [
    "X_loan_test['Credit Score'].describe()"
   ]
  },
  {
   "cell_type": "code",
   "execution_count": 80,
   "metadata": {},
   "outputs": [
    {
     "data": {
      "text/plain": [
       "NaN       10992\n",
       "747.0      1084\n",
       "746.0      1023\n",
       "740.0      1019\n",
       "742.0       966\n",
       "741.0       940\n",
       "743.0       924\n",
       "744.0       907\n",
       "745.0       905\n",
       "739.0       896\n",
       "748.0       886\n",
       "737.0       788\n",
       "738.0       781\n",
       "750.0       725\n",
       "735.0       641\n",
       "734.0       625\n",
       "733.0       594\n",
       "736.0       579\n",
       "732.0       577\n",
       "729.0       532\n",
       "731.0       523\n",
       "728.0       521\n",
       "730.0       509\n",
       "749.0       497\n",
       "751.0       448\n",
       "726.0       417\n",
       "727.0       409\n",
       "724.0       387\n",
       "725.0       386\n",
       "723.0       368\n",
       "          ...  \n",
       "6530.0        3\n",
       "6020.0        2\n",
       "609.0         2\n",
       "6170.0        2\n",
       "6320.0        2\n",
       "5980.0        2\n",
       "6030.0        2\n",
       "6140.0        2\n",
       "6340.0        2\n",
       "6230.0        2\n",
       "6180.0        2\n",
       "6040.0        2\n",
       "5870.0        2\n",
       "593.0         2\n",
       "6050.0        2\n",
       "6080.0        2\n",
       "6410.0        2\n",
       "591.0         1\n",
       "5970.0        1\n",
       "6010.0        1\n",
       "5950.0        1\n",
       "5960.0        1\n",
       "588.0         1\n",
       "5940.0        1\n",
       "5930.0        1\n",
       "602.0         1\n",
       "6130.0        1\n",
       "6190.0        1\n",
       "5910.0        1\n",
       "585.0         1\n",
       "Name: Credit Score, Length: 320, dtype: int64"
      ]
     },
     "execution_count": 80,
     "metadata": {},
     "output_type": "execute_result"
    }
   ],
   "source": [
    "#of these stats, we want to know how includenced our mean etc is by null values\n",
    "#we can see that 11k fields are empty\n",
    "X_loan_test['Credit Score'].value_counts(dropna=False)"
   ]
  },
  {
   "cell_type": "code",
   "execution_count": 81,
   "metadata": {},
   "outputs": [],
   "source": [
    "X_loan_test['Credit Score'].fillna(0, inplace=True)"
   ]
  },
  {
   "cell_type": "code",
   "execution_count": 82,
   "metadata": {},
   "outputs": [
    {
     "name": "stderr",
     "output_type": "stream",
     "text": [
      "/Users/alisonbunce/anaconda3/lib/python3.7/site-packages/ipykernel_launcher.py:2: SettingWithCopyWarning: \n",
      "A value is trying to be set on a copy of a slice from a DataFrame.\n",
      "Try using .loc[row_indexer,col_indexer] = value instead\n",
      "\n",
      "See the caveats in the documentation: http://pandas.pydata.org/pandas-docs/stable/indexing.html#indexing-view-versus-copy\n",
      "  \n"
     ]
    }
   ],
   "source": [
    "#anythign that was greater than 999, we divided by 10\n",
    "X_loan_test['Credit Score'] =  X_loan_test['Credit Score'].apply(lambda x : x / 10  if x > 999 else x)"
   ]
  },
  {
   "cell_type": "code",
   "execution_count": 83,
   "metadata": {},
   "outputs": [
    {
     "data": {
      "text/plain": [
       "751.0"
      ]
     },
     "execution_count": 83,
     "metadata": {},
     "output_type": "execute_result"
    }
   ],
   "source": [
    "#this confirms that we successfully completed the lambda function b/c our max # is 751, not in the 1000s\n",
    "X_loan_test['Credit Score'].max()"
   ]
  },
  {
   "cell_type": "code",
   "execution_count": 84,
   "metadata": {},
   "outputs": [],
   "source": [
    "#note: it is by chance that the max number in our train and test is both 751"
   ]
  },
  {
   "cell_type": "code",
   "execution_count": 85,
   "metadata": {},
   "outputs": [
    {
     "data": {
      "text/plain": [
       "count    43140.000000\n",
       "mean       539.289662\n",
       "std        316.169965\n",
       "min          0.000000\n",
       "25%          0.000000\n",
       "50%        721.000000\n",
       "75%        739.000000\n",
       "max        751.000000\n",
       "Name: Credit Score, dtype: float64"
      ]
     },
     "execution_count": 85,
     "metadata": {},
     "output_type": "execute_result"
    }
   ],
   "source": [
    "X_loan_test['Credit Score'].describe()"
   ]
  },
  {
   "cell_type": "code",
   "execution_count": 86,
   "metadata": {},
   "outputs": [
    {
     "data": {
      "text/plain": [
       "721.0"
      ]
     },
     "execution_count": 86,
     "metadata": {},
     "output_type": "execute_result"
    }
   ],
   "source": [
    "#since mean and median are pretty far apart, i will elect to use median\n",
    "X_loan_test['Credit Score'].median()"
   ]
  },
  {
   "cell_type": "code",
   "execution_count": 87,
   "metadata": {},
   "outputs": [],
   "source": [
    "#replace all the values of 0.0 with median\n",
    "X_loan_test['Credit Score'].replace(0.0, X_loan_test['Credit Score'].median(), inplace=True)"
   ]
  },
  {
   "cell_type": "code",
   "execution_count": 88,
   "metadata": {},
   "outputs": [
    {
     "data": {
      "text/plain": [
       "count    43140.000000\n",
       "mean       722.999258\n",
       "std         22.829207\n",
       "min        585.000000\n",
       "25%        721.000000\n",
       "50%        721.000000\n",
       "75%        739.000000\n",
       "max        751.000000\n",
       "Name: Credit Score, dtype: float64"
      ]
     },
     "execution_count": 88,
     "metadata": {},
     "output_type": "execute_result"
    }
   ],
   "source": [
    "X_loan_test['Credit Score'].describe()"
   ]
  },
  {
   "cell_type": "code",
   "execution_count": 89,
   "metadata": {},
   "outputs": [
    {
     "data": {
      "text/plain": [
       "0"
      ]
     },
     "execution_count": 89,
     "metadata": {},
     "output_type": "execute_result"
    }
   ],
   "source": [
    "X_loan_test['Credit Score'].isnull().sum()"
   ]
  },
  {
   "cell_type": "markdown",
   "metadata": {},
   "source": [
    "### Clean (Test): Years in Current Job"
   ]
  },
  {
   "cell_type": "code",
   "execution_count": 90,
   "metadata": {},
   "outputs": [
    {
     "data": {
      "text/plain": [
       "1788"
      ]
     },
     "execution_count": 90,
     "metadata": {},
     "output_type": "execute_result"
    }
   ],
   "source": [
    "#confirm the amount of null values we have\n",
    "X_loan_test['Years in current job'].isnull().sum()"
   ]
  },
  {
   "cell_type": "code",
   "execution_count": 91,
   "metadata": {},
   "outputs": [
    {
     "data": {
      "text/plain": [
       "array(['10+ years', '8 years', '2 years', '6 years', '4 years', '5 years',\n",
       "       '9 years', '< 1 year', '3 years', nan, '1 year', '7 years'],\n",
       "      dtype=object)"
      ]
     },
     "execution_count": 91,
     "metadata": {},
     "output_type": "execute_result"
    }
   ],
   "source": [
    "#see if there are multiple types of values\n",
    "X_loan_test['Years in current job'].unique()"
   ]
  },
  {
   "cell_type": "code",
   "execution_count": 92,
   "metadata": {},
   "outputs": [],
   "source": [
    "#thankfully all the same values (by nature of array output)\n",
    "#but computer won't be able to understand values like 10+ so we rename them with floats\n",
    "X_loan_test['Years in current job'].replace(['10+ years', '5 years', '1 year', np.nan, '2 years', '< 1 year','7 years', '8 years', '3 years', '9 years', '6 years', '4 years'], [10.5, 5.0, 1.0, 0.0, 2.0, 0.5, 7.0, 8.0, 3.0, 9.0, 6.0, 4.0], inplace=True)"
   ]
  },
  {
   "cell_type": "code",
   "execution_count": 93,
   "metadata": {},
   "outputs": [
    {
     "data": {
      "text/plain": [
       "array([10.5,  8. ,  2. ,  6. ,  4. ,  5. ,  9. ,  0.5,  3. ,  0. ,  1. ,\n",
       "        7. ])"
      ]
     },
     "execution_count": 93,
     "metadata": {},
     "output_type": "execute_result"
    }
   ],
   "source": [
    "#lets check to make sure our strings were replaced with floats\n",
    "X_loan_test['Years in current job'].unique()"
   ]
  },
  {
   "cell_type": "code",
   "execution_count": 94,
   "metadata": {},
   "outputs": [
    {
     "data": {
      "text/plain": [
       "0"
      ]
     },
     "execution_count": 94,
     "metadata": {},
     "output_type": "execute_result"
    }
   ],
   "source": [
    "#everything looks good (above)\n",
    "# now let's double check that we successfully got rid of all null values\n",
    "X_loan_train['Years in current job'].isnull().sum()"
   ]
  },
  {
   "cell_type": "code",
   "execution_count": 95,
   "metadata": {},
   "outputs": [
    {
     "name": "stdout",
     "output_type": "stream",
     "text": [
      "<class 'pandas.core.frame.DataFrame'>\n",
      "Int64Index: 43140 entries, 144251 to 212271\n",
      "Data columns (total 18 columns):\n",
      "Loan ID                         43140 non-null object\n",
      "Customer ID                     43140 non-null object\n",
      "Current Loan Amount             43140 non-null int64\n",
      "Term                            43140 non-null object\n",
      "Credit Score                    43140 non-null float64\n",
      "Years in current job            43140 non-null float64\n",
      "Home Ownership                  43140 non-null object\n",
      "Annual Income                   43140 non-null float64\n",
      "Purpose                         43140 non-null object\n",
      "Monthly Debt                    43140 non-null object\n",
      "Years of Credit History         43140 non-null float64\n",
      "Months since last delinquent    43140 non-null float64\n",
      "Number of Open Accounts         43140 non-null int64\n",
      "Number of Credit Problems       43140 non-null int64\n",
      "Current Credit Balance          43140 non-null int64\n",
      "Maximum Open Credit             43140 non-null object\n",
      "Bankruptcies                    43140 non-null float64\n",
      "Tax Liens                       43140 non-null float64\n",
      "dtypes: float64(7), int64(4), object(7)\n",
      "memory usage: 6.3+ MB\n"
     ]
    }
   ],
   "source": [
    "#all looks good (above)\n",
    "#lets take a look at how our data is looking now\n",
    "X_loan_test.info()"
   ]
  },
  {
   "cell_type": "code",
   "execution_count": 96,
   "metadata": {},
   "outputs": [],
   "source": [
    "#all values are filled in because we see that all columns have the same number of rows"
   ]
  },
  {
   "cell_type": "markdown",
   "metadata": {},
   "source": [
    "#now that values are filled in, we need to convert object values that wouldn't be classfied in dummies into numeric so the computer can read it"
   ]
  },
  {
   "cell_type": "markdown",
   "metadata": {},
   "source": [
    "### Convert Monthly Debt (Test): object to numeric"
   ]
  },
  {
   "cell_type": "code",
   "execution_count": 97,
   "metadata": {},
   "outputs": [
    {
     "name": "stderr",
     "output_type": "stream",
     "text": [
      "/Users/alisonbunce/anaconda3/lib/python3.7/site-packages/ipykernel_launcher.py:1: SettingWithCopyWarning: \n",
      "A value is trying to be set on a copy of a slice from a DataFrame.\n",
      "Try using .loc[row_indexer,col_indexer] = value instead\n",
      "\n",
      "See the caveats in the documentation: http://pandas.pydata.org/pandas-docs/stable/indexing.html#indexing-view-versus-copy\n",
      "  \"\"\"Entry point for launching an IPython kernel.\n"
     ]
    }
   ],
   "source": [
    "X_loan_test['Monthly Debt'] = X_loan_test['Monthly Debt'].replace( '[\\$, ]','', regex=True ).astype(float) "
   ]
  },
  {
   "cell_type": "code",
   "execution_count": 98,
   "metadata": {},
   "outputs": [
    {
     "data": {
      "text/plain": [
       "144251    1440.63\n",
       "175664    2646.86\n",
       "32747     3178.04\n",
       "122673     794.00\n",
       "125896     709.41\n",
       "Name: Monthly Debt, dtype: float64"
      ]
     },
     "execution_count": 98,
     "metadata": {},
     "output_type": "execute_result"
    }
   ],
   "source": [
    "#check the data to see if worked\n",
    "X_loan_test['Monthly Debt'].head()"
   ]
  },
  {
   "cell_type": "markdown",
   "metadata": {},
   "source": [
    "### Convert Maximum Open Credit (Test): Object to Numeric"
   ]
  },
  {
   "cell_type": "code",
   "execution_count": 118,
   "metadata": {},
   "outputs": [
    {
     "data": {
      "text/plain": [
       "array([37670, 27897, 70692, ..., 42192, 37936, 38745])"
      ]
     },
     "execution_count": 118,
     "metadata": {},
     "output_type": "execute_result"
    }
   ],
   "source": [
    "X_loan_test['Maximum Open Credit'].unique()"
   ]
  },
  {
   "cell_type": "code",
   "execution_count": 119,
   "metadata": {},
   "outputs": [],
   "source": [
    "X_loan_test['Maximum Open Credit'].fillna(0, inplace=True)"
   ]
  },
  {
   "cell_type": "code",
   "execution_count": 101,
   "metadata": {},
   "outputs": [
    {
     "name": "stderr",
     "output_type": "stream",
     "text": [
      "/Users/alisonbunce/anaconda3/lib/python3.7/site-packages/ipykernel_launcher.py:1: SettingWithCopyWarning: \n",
      "A value is trying to be set on a copy of a slice from a DataFrame.\n",
      "Try using .loc[row_indexer,col_indexer] = value instead\n",
      "\n",
      "See the caveats in the documentation: http://pandas.pydata.org/pandas-docs/stable/indexing.html#indexing-view-versus-copy\n",
      "  \"\"\"Entry point for launching an IPython kernel.\n"
     ]
    }
   ],
   "source": [
    "X_loan_test['Maximum Open Credit'] = pd.to_numeric(X_loan_test['Maximum Open Credit'], errors='coerce')"
   ]
  },
  {
   "cell_type": "code",
   "execution_count": 120,
   "metadata": {},
   "outputs": [
    {
     "name": "stdout",
     "output_type": "stream",
     "text": [
      "<class 'pandas.core.frame.DataFrame'>\n",
      "Int64Index: 43140 entries, 144251 to 212271\n",
      "Data columns (total 16 columns):\n",
      "Current Loan Amount             43140 non-null int64\n",
      "Term                            43140 non-null object\n",
      "Credit Score                    43140 non-null float64\n",
      "Years in current job            43140 non-null float64\n",
      "Home Ownership                  43140 non-null object\n",
      "Annual Income                   43140 non-null float64\n",
      "Purpose                         43140 non-null object\n",
      "Monthly Debt                    43140 non-null float64\n",
      "Years of Credit History         43140 non-null float64\n",
      "Months since last delinquent    43140 non-null float64\n",
      "Number of Open Accounts         43140 non-null int64\n",
      "Number of Credit Problems       43140 non-null int64\n",
      "Current Credit Balance          43140 non-null int64\n",
      "Maximum Open Credit             43140 non-null int64\n",
      "Bankruptcies                    43140 non-null float64\n",
      "Tax Liens                       43140 non-null float64\n",
      "dtypes: float64(8), int64(5), object(3)\n",
      "memory usage: 5.6+ MB\n"
     ]
    }
   ],
   "source": [
    "#check to see if max open credit and monthly loan have been converted to numeric in the form of a float/int\n",
    "X_loan_test.info()"
   ]
  },
  {
   "cell_type": "code",
   "execution_count": 121,
   "metadata": {},
   "outputs": [
    {
     "data": {
      "text/plain": [
       "0"
      ]
     },
     "execution_count": 121,
     "metadata": {},
     "output_type": "execute_result"
    }
   ],
   "source": [
    "X_loan_test['Maximum Open Credit'].isnull().sum()"
   ]
  },
  {
   "cell_type": "markdown",
   "metadata": {},
   "source": [
    "Everything looks good an we have no move on to creating dummies for both X_loan_test and X_loan_train"
   ]
  },
  {
   "cell_type": "markdown",
   "metadata": {},
   "source": [
    "## Drop the Uneccessary Columns"
   ]
  },
  {
   "cell_type": "code",
   "execution_count": 104,
   "metadata": {},
   "outputs": [
    {
     "name": "stderr",
     "output_type": "stream",
     "text": [
      "/Users/alisonbunce/anaconda3/lib/python3.7/site-packages/pandas/core/frame.py:3940: SettingWithCopyWarning: \n",
      "A value is trying to be set on a copy of a slice from a DataFrame\n",
      "\n",
      "See the caveats in the documentation: http://pandas.pydata.org/pandas-docs/stable/indexing.html#indexing-view-versus-copy\n",
      "  errors=errors)\n"
     ]
    }
   ],
   "source": [
    "#drop loan id and customer id for both test and train df\n",
    "X_loan_train.drop(['Loan ID','Customer ID'], axis=1, inplace=True)\n",
    "X_loan_test.drop(['Loan ID','Customer ID'], axis=1, inplace=True)"
   ]
  },
  {
   "cell_type": "code",
   "execution_count": 105,
   "metadata": {},
   "outputs": [
    {
     "name": "stdout",
     "output_type": "stream",
     "text": [
      "(172560, 16)\n",
      "(43140, 16)\n"
     ]
    }
   ],
   "source": [
    "#check the df to double check that those columns have been dropped\n",
    "print(X_loan_train.shape)\n",
    "print(X_loan_test.shape)"
   ]
  },
  {
   "cell_type": "markdown",
   "metadata": {},
   "source": [
    "### Dummies: X_Loan_Train & X_Loan_Test"
   ]
  },
  {
   "cell_type": "markdown",
   "metadata": {},
   "source": [
    "We need to create dummies columns for the following columns:\n",
    "1. Term\n",
    "2. Home Ownership\n",
    "3. Purpose"
   ]
  },
  {
   "cell_type": "code",
   "execution_count": 124,
   "metadata": {},
   "outputs": [],
   "source": [
    "X_loan_train_dummies = pd.get_dummies(X_loan_train)\n",
    "X_loan_test_dummies = pd.get_dummies(X_loan_test)"
   ]
  },
  {
   "cell_type": "code",
   "execution_count": 125,
   "metadata": {},
   "outputs": [
    {
     "data": {
      "text/plain": [
       "Current Loan Amount             0\n",
       "Credit Score                    0\n",
       "Years in current job            0\n",
       "Annual Income                   0\n",
       "Monthly Debt                    0\n",
       "Years of Credit History         0\n",
       "Months since last delinquent    0\n",
       "Number of Open Accounts         0\n",
       "Number of Credit Problems       0\n",
       "Current Credit Balance          0\n",
       "Maximum Open Credit             0\n",
       "Bankruptcies                    0\n",
       "Tax Liens                       0\n",
       "Term_Long Term                  0\n",
       "Term_Short Term                 0\n",
       "Home Ownership_HaveMortgage     0\n",
       "Home Ownership_Home Mortgage    0\n",
       "Home Ownership_Own Home         0\n",
       "Home Ownership_Rent             0\n",
       "Purpose_Business Loan           0\n",
       "Purpose_Buy House               0\n",
       "Purpose_Buy a Car               0\n",
       "Purpose_Debt Consolidation      0\n",
       "Purpose_Educational Expenses    0\n",
       "Purpose_Home Improvements       0\n",
       "Purpose_Medical Bills           0\n",
       "Purpose_Other                   0\n",
       "Purpose_Take a Trip             0\n",
       "Purpose_other                   0\n",
       "dtype: int64"
      ]
     },
     "execution_count": 125,
     "metadata": {},
     "output_type": "execute_result"
    }
   ],
   "source": [
    "X_loan_train_dummies.isnull().sum()"
   ]
  },
  {
   "cell_type": "code",
   "execution_count": 126,
   "metadata": {},
   "outputs": [
    {
     "name": "stdout",
     "output_type": "stream",
     "text": [
      "<class 'pandas.core.frame.DataFrame'>\n",
      "Int64Index: 172560 entries, 88212 to 19027\n",
      "Data columns (total 29 columns):\n",
      "Current Loan Amount             172560 non-null int64\n",
      "Credit Score                    172560 non-null float64\n",
      "Years in current job            172560 non-null float64\n",
      "Annual Income                   172560 non-null float64\n",
      "Monthly Debt                    172560 non-null float64\n",
      "Years of Credit History         172560 non-null float64\n",
      "Months since last delinquent    172560 non-null float64\n",
      "Number of Open Accounts         172560 non-null int64\n",
      "Number of Credit Problems       172560 non-null int64\n",
      "Current Credit Balance          172560 non-null int64\n",
      "Maximum Open Credit             172560 non-null float64\n",
      "Bankruptcies                    172560 non-null float64\n",
      "Tax Liens                       172560 non-null float64\n",
      "Term_Long Term                  172560 non-null uint8\n",
      "Term_Short Term                 172560 non-null uint8\n",
      "Home Ownership_HaveMortgage     172560 non-null uint8\n",
      "Home Ownership_Home Mortgage    172560 non-null uint8\n",
      "Home Ownership_Own Home         172560 non-null uint8\n",
      "Home Ownership_Rent             172560 non-null uint8\n",
      "Purpose_Business Loan           172560 non-null uint8\n",
      "Purpose_Buy House               172560 non-null uint8\n",
      "Purpose_Buy a Car               172560 non-null uint8\n",
      "Purpose_Debt Consolidation      172560 non-null uint8\n",
      "Purpose_Educational Expenses    172560 non-null uint8\n",
      "Purpose_Home Improvements       172560 non-null uint8\n",
      "Purpose_Medical Bills           172560 non-null uint8\n",
      "Purpose_Other                   172560 non-null uint8\n",
      "Purpose_Take a Trip             172560 non-null uint8\n",
      "Purpose_other                   172560 non-null uint8\n",
      "dtypes: float64(9), int64(4), uint8(16)\n",
      "memory usage: 21.1 MB\n"
     ]
    }
   ],
   "source": [
    "X_loan_train_dummies.info()"
   ]
  },
  {
   "cell_type": "markdown",
   "metadata": {},
   "source": [
    "(above) a miracle happened and after i kept refreshing the max open credit FINALLy 0'd out. cause: unkown"
   ]
  },
  {
   "cell_type": "code",
   "execution_count": 127,
   "metadata": {},
   "outputs": [
    {
     "data": {
      "text/plain": [
       "Current Loan Amount             0\n",
       "Credit Score                    0\n",
       "Years in current job            0\n",
       "Annual Income                   0\n",
       "Monthly Debt                    0\n",
       "Years of Credit History         0\n",
       "Months since last delinquent    0\n",
       "Number of Open Accounts         0\n",
       "Number of Credit Problems       0\n",
       "Current Credit Balance          0\n",
       "Maximum Open Credit             0\n",
       "Bankruptcies                    0\n",
       "Tax Liens                       0\n",
       "Term_Long Term                  0\n",
       "Term_Short Term                 0\n",
       "Home Ownership_HaveMortgage     0\n",
       "Home Ownership_Home Mortgage    0\n",
       "Home Ownership_Own Home         0\n",
       "Home Ownership_Rent             0\n",
       "Purpose_Business Loan           0\n",
       "Purpose_Buy House               0\n",
       "Purpose_Buy a Car               0\n",
       "Purpose_Debt Consolidation      0\n",
       "Purpose_Educational Expenses    0\n",
       "Purpose_Home Improvements       0\n",
       "Purpose_Medical Bills           0\n",
       "Purpose_Other                   0\n",
       "Purpose_Take a Trip             0\n",
       "Purpose_other                   0\n",
       "dtype: int64"
      ]
     },
     "execution_count": 127,
     "metadata": {},
     "output_type": "execute_result"
    }
   ],
   "source": [
    "#check that all null values are filled in for test df\n",
    "X_loan_test_dummies.isnull().sum()"
   ]
  },
  {
   "cell_type": "markdown",
   "metadata": {},
   "source": [
    "Test dummies looks good! All 0s above mean that there are no missing values in our df"
   ]
  },
  {
   "cell_type": "markdown",
   "metadata": {},
   "source": [
    "# Modeling"
   ]
  },
  {
   "cell_type": "markdown",
   "metadata": {},
   "source": [
    "In order to begin modeling, we go back to what our business problem is so we can determine what type of Machiene Learning we are dealing with. In this particular problem, we are looking to determine which of our customers are good or bad candidates for future loans. Because we are looking to predict an assumption based on our current history, we are definitely solving a machine learning problem. We are speficically solving a classifcation problem (not regression or unsupervised learning) because the output variable is a category. Our algorithm options are random.forest, naive bayes, logistic regression, gradient boosting and k-nearest neighbors. "
   ]
  },
  {
   "cell_type": "markdown",
   "metadata": {},
   "source": [
    "Let's begin by trying the random forest classifer algorithm."
   ]
  },
  {
   "cell_type": "markdown",
   "metadata": {},
   "source": [
    "### Random Forest"
   ]
  },
  {
   "cell_type": "code",
   "execution_count": 128,
   "metadata": {},
   "outputs": [],
   "source": [
    "#Import libraries for random forest\n",
    "from sklearn.ensemble import RandomForestClassifier\n",
    "\n",
    "#import metrics which will help us determine which algo to pursue\n",
    "from sklearn.metrics import accuracy_score, roc_auc_score, precision_score, confusion_matrix"
   ]
  },
  {
   "cell_type": "code",
   "execution_count": 129,
   "metadata": {},
   "outputs": [],
   "source": [
    "#assign unique name to random forest algo to make it easier to reference\n",
    "rf = RandomForestClassifier()"
   ]
  },
  {
   "cell_type": "code",
   "execution_count": 130,
   "metadata": {},
   "outputs": [
    {
     "name": "stderr",
     "output_type": "stream",
     "text": [
      "/Users/alisonbunce/anaconda3/lib/python3.7/site-packages/sklearn/ensemble/forest.py:246: FutureWarning: The default value of n_estimators will change from 10 in version 0.20 to 100 in 0.22.\n",
      "  \"10 in version 0.20 to 100 in 0.22.\", FutureWarning)\n"
     ]
    },
    {
     "data": {
      "text/plain": [
       "RandomForestClassifier(bootstrap=True, class_weight=None, criterion='gini',\n",
       "            max_depth=None, max_features='auto', max_leaf_nodes=None,\n",
       "            min_impurity_decrease=0.0, min_impurity_split=None,\n",
       "            min_samples_leaf=1, min_samples_split=2,\n",
       "            min_weight_fraction_leaf=0.0, n_estimators=10, n_jobs=None,\n",
       "            oob_score=False, random_state=None, verbose=0,\n",
       "            warm_start=False)"
      ]
     },
     "execution_count": 130,
     "metadata": {},
     "output_type": "execute_result"
    }
   ],
   "source": [
    "#train the random forest algorithm\n",
    "rf.fit(X_loan_train_dummies, y_loan_train)"
   ]
  },
  {
   "cell_type": "code",
   "execution_count": 132,
   "metadata": {},
   "outputs": [
    {
     "data": {
      "text/plain": [
       "array(['Fully Paid', 'Fully Paid', 'Charged Off', ..., 'Fully Paid',\n",
       "       'Charged Off', 'Fully Paid'], dtype=object)"
      ]
     },
     "execution_count": 132,
     "metadata": {},
     "output_type": "execute_result"
    }
   ],
   "source": [
    "#make predictions\n",
    "rf.predict(X_loan_test_dummies)"
   ]
  },
  {
   "cell_type": "code",
   "execution_count": 134,
   "metadata": {},
   "outputs": [
    {
     "data": {
      "text/plain": [
       "0.7918868799258229"
      ]
     },
     "execution_count": 134,
     "metadata": {},
     "output_type": "execute_result"
    }
   ],
   "source": [
    "#determine accuracy score\n",
    "accuracy_score(y_loan_test, rf.predict(X_loan_test_dummies))"
   ]
  },
  {
   "cell_type": "code",
   "execution_count": null,
   "metadata": {},
   "outputs": [],
   "source": []
  }
 ],
 "metadata": {
  "kernelspec": {
   "display_name": "Python 3",
   "language": "python",
   "name": "python3"
  },
  "language_info": {
   "codemirror_mode": {
    "name": "ipython",
    "version": 3
   },
   "file_extension": ".py",
   "mimetype": "text/x-python",
   "name": "python",
   "nbconvert_exporter": "python",
   "pygments_lexer": "ipython3",
   "version": "3.8.5"
  }
 },
 "nbformat": 4,
 "nbformat_minor": 2
}
